{
 "cells": [
  {
   "cell_type": "code",
   "execution_count": 6,
   "metadata": {
    "collapsed": false
   },
   "outputs": [
    {
     "name": "stdout",
     "output_type": "stream",
     "text": [
      "['NDB_No', 'Shrt_Desc', 'Water_(g)', 'Energ_Kcal', 'Protein_(g)', 'Lipid_Tot_(g)', 'Ash_(g)', 'Carbohydrt_(g)', 'Fiber_TD_(g)', 'Sugar_Tot_(g)', 'Calcium_(mg)', 'Iron_(mg)', 'Magnesium_(mg)', 'Phosphorus_(mg)', 'Potassium_(mg)', 'Sodium_(mg)', 'Zinc_(mg)', 'Copper_(mg)', 'Manganese_(mg)', 'Selenium_(mcg)', 'Vit_C_(mg)', 'Thiamin_(mg)', 'Riboflavin_(mg)', 'Niacin_(mg)', 'Vit_B6_(mg)', 'Vit_B12_(mcg)', 'Vit_A_IU', 'Vit_A_RAE', 'Vit_E_(mg)', 'Vit_D_mcg', 'Vit_D_IU', 'Vit_K_(mcg)', 'FA_Sat_(g)', 'FA_Mono_(g)', 'FA_Poly_(g)', 'Cholestrl_(mg)']\n",
      "   NDB_No                 Shrt_Desc  Water_(g)  Energ_Kcal  Protein_(g)  \\\n",
      "0    1001          BUTTER WITH SALT      15.87         717         0.85   \n",
      "1    1002  BUTTER WHIPPED WITH SALT      15.87         717         0.85   \n",
      "2    1003      BUTTER OIL ANHYDROUS       0.24         876         0.28   \n",
      "\n",
      "   Lipid_Tot_(g)  Ash_(g)  Carbohydrt_(g)  Fiber_TD_(g)  Sugar_Tot_(g)  \\\n",
      "0          81.11     2.11            0.06           0.0           0.06   \n",
      "1          81.11     2.11            0.06           0.0           0.06   \n",
      "2          99.48     0.00            0.00           0.0           0.00   \n",
      "\n",
      "        ...        Vit_A_IU  Vit_A_RAE  Vit_E_(mg)  Vit_D_mcg  Vit_D_IU  \\\n",
      "0       ...          2499.0      684.0        2.32        1.5      60.0   \n",
      "1       ...          2499.0      684.0        2.32        1.5      60.0   \n",
      "2       ...          3069.0      840.0        2.80        1.8      73.0   \n",
      "\n",
      "   Vit_K_(mcg)  FA_Sat_(g)  FA_Mono_(g)  FA_Poly_(g)  Cholestrl_(mg)  \n",
      "0          7.0      51.368       21.021        3.043           215.0  \n",
      "1          7.0      50.489       23.426        3.012           219.0  \n",
      "2          8.6      61.924       28.732        3.694           256.0  \n",
      "\n",
      "[3 rows x 36 columns]\n"
     ]
    }
   ],
   "source": [
    "import pandas\n",
    "food_info = pandas.read_csv(\"food_info.csv\")\n",
    "col_names = food_info.columns.tolist()\n",
    "print(col_names)\n",
    "print(food_info.head(3))"
   ]
  },
  {
   "cell_type": "code",
   "execution_count": 7,
   "metadata": {
    "collapsed": false
   },
   "outputs": [
    {
     "name": "stdout",
     "output_type": "stream",
     "text": [
      "0        0.02\n",
      "1        0.16\n",
      "2        0.00\n",
      "3        0.31\n",
      "4        0.43\n",
      "5        0.50\n",
      "6        0.33\n",
      "7        0.64\n",
      "8        0.16\n",
      "9        0.21\n",
      "10       0.76\n",
      "11       0.07\n",
      "12       0.16\n",
      "13       0.15\n",
      "14       0.13\n",
      "15       0.14\n",
      "16       0.38\n",
      "17       0.44\n",
      "18       0.65\n",
      "19       0.23\n",
      "20       0.52\n",
      "21       0.24\n",
      "22       0.17\n",
      "23       0.13\n",
      "24       0.72\n",
      "25       0.44\n",
      "26       0.20\n",
      "27       0.22\n",
      "28       0.23\n",
      "29       0.41\n",
      "        ...  \n",
      "8588     9.00\n",
      "8589     0.30\n",
      "8590     0.10\n",
      "8591     1.63\n",
      "8592    34.82\n",
      "8593     2.28\n",
      "8594     0.17\n",
      "8595     0.17\n",
      "8596     4.86\n",
      "8597     0.25\n",
      "8598     0.23\n",
      "8599     0.13\n",
      "8600     0.11\n",
      "8601     0.68\n",
      "8602     7.83\n",
      "8603     3.11\n",
      "8604     0.30\n",
      "8605     0.18\n",
      "8606     0.80\n",
      "8607     0.04\n",
      "8608     3.87\n",
      "8609     0.05\n",
      "8610     0.38\n",
      "8611     5.20\n",
      "8612     1.50\n",
      "8613     1.40\n",
      "8614     0.58\n",
      "8615     3.60\n",
      "8616     3.50\n",
      "8617     1.40\n",
      "Name: Iron_(mg), dtype: float64\n"
     ]
    },
    {
     "data": {
      "text/plain": [
       "0       0.00002\n",
       "1       0.00016\n",
       "2       0.00000\n",
       "3       0.00031\n",
       "4       0.00043\n",
       "5       0.00050\n",
       "6       0.00033\n",
       "7       0.00064\n",
       "8       0.00016\n",
       "9       0.00021\n",
       "10      0.00076\n",
       "11      0.00007\n",
       "12      0.00016\n",
       "13      0.00015\n",
       "14      0.00013\n",
       "15      0.00014\n",
       "16      0.00038\n",
       "17      0.00044\n",
       "18      0.00065\n",
       "19      0.00023\n",
       "20      0.00052\n",
       "21      0.00024\n",
       "22      0.00017\n",
       "23      0.00013\n",
       "24      0.00072\n",
       "25      0.00044\n",
       "26      0.00020\n",
       "27      0.00022\n",
       "28      0.00023\n",
       "29      0.00041\n",
       "         ...   \n",
       "8588    0.00900\n",
       "8589    0.00030\n",
       "8590    0.00010\n",
       "8591    0.00163\n",
       "8592    0.03482\n",
       "8593    0.00228\n",
       "8594    0.00017\n",
       "8595    0.00017\n",
       "8596    0.00486\n",
       "8597    0.00025\n",
       "8598    0.00023\n",
       "8599    0.00013\n",
       "8600    0.00011\n",
       "8601    0.00068\n",
       "8602    0.00783\n",
       "8603    0.00311\n",
       "8604    0.00030\n",
       "8605    0.00018\n",
       "8606    0.00080\n",
       "8607    0.00004\n",
       "8608    0.00387\n",
       "8609    0.00005\n",
       "8610    0.00038\n",
       "8611    0.00520\n",
       "8612    0.00150\n",
       "8613    0.00140\n",
       "8614    0.00058\n",
       "8615    0.00360\n",
       "8616    0.00350\n",
       "8617    0.00140\n",
       "Name: Iron_(mg), dtype: float64"
      ]
     },
     "execution_count": 7,
     "metadata": {},
     "output_type": "execute_result"
    }
   ],
   "source": [
    "#进行加减乘除操作\n",
    "print (food_info[\"Iron_(mg)\"])\n",
    "div_1000 = food_info[\"Iron_(mg)\"] / 1000\n",
    "div_1000\n",
    "# Adds 100 to each value in the column and returns a Series object.\n",
    "#add_100 = food_info[\"Iron_(mg)\"] + 100\n",
    "\n",
    "# Subtracts 100 from each value in the column and returns a Series object.\n",
    "#sub_100 = food_info[\"Iron_(mg)\"] - 100\n",
    "\n",
    "# Multiplies each value in the column by 2 and returns a Series object.\n",
    "#mult_2 = food_info[\"Iron_(mg)\"]*2\n"
   ]
  },
  {
   "cell_type": "code",
   "execution_count": 9,
   "metadata": {
    "collapsed": false
   },
   "outputs": [
    {
     "name": "stdout",
     "output_type": "stream",
     "text": [
      "(8618, 37)\n",
      "(8618, 37)\n"
     ]
    }
   ],
   "source": [
    "#It applies the arithmetic operator to the first value in both columns, the second value in both columns, and so on\n",
    "water_energy = food_info[\"Water_(g)\"] * food_info[\"Energ_Kcal\"]\n",
    "print(food_info.shape)\n",
    "iron_grams = food_info[\"Iron_(mg)\"] / 1000  \n",
    "food_info[\"Iron_(g)\"] = iron_grams\n",
    "print(food_info.shape)"
   ]
  },
  {
   "cell_type": "code",
   "execution_count": 10,
   "metadata": {
    "collapsed": false
   },
   "outputs": [
    {
     "data": {
      "text/plain": [
       "0       -59.1325\n",
       "1       -59.1325\n",
       "2       -74.0500\n",
       "3        21.2450\n",
       "4        24.2200\n",
       "5        20.7400\n",
       "6        21.4050\n",
       "7        28.4600\n",
       "8        22.7150\n",
       "9        23.7900\n",
       "10       23.4375\n",
       "11       19.0150\n",
       "12       18.4925\n",
       "13       20.4625\n",
       "14       19.1975\n",
       "15       24.0150\n",
       "16      -13.8200\n",
       "17       29.1300\n",
       "18       12.4600\n",
       "19       27.8450\n",
       "20       -2.8325\n",
       "21       29.3000\n",
       "22       35.3650\n",
       "23       19.6625\n",
       "24       26.2500\n",
       "25       27.5775\n",
       "26       24.7200\n",
       "27       36.5800\n",
       "28       34.3700\n",
       "29       24.2900\n",
       "          ...   \n",
       "8588     12.5250\n",
       "8589      1.8500\n",
       "8590      0.4500\n",
       "8591      6.0000\n",
       "8592     10.1450\n",
       "8593     18.0750\n",
       "8594      0.8500\n",
       "8595     52.9750\n",
       "8596      3.1750\n",
       "8597     42.1750\n",
       "8598    -58.3500\n",
       "8599    -75.0000\n",
       "8600      0.0000\n",
       "8601     -6.4650\n",
       "8602     21.0250\n",
       "8603      8.8000\n",
       "8604      0.0000\n",
       "8605      0.5775\n",
       "8606      0.6700\n",
       "8607      0.1525\n",
       "8608     17.9100\n",
       "8609      3.1250\n",
       "8610      0.9450\n",
       "8611    148.9325\n",
       "8612     32.5750\n",
       "8613     18.1750\n",
       "8614     40.4500\n",
       "8615      0.0000\n",
       "8616     31.1500\n",
       "8617     39.2250\n",
       "dtype: float64"
      ]
     },
     "execution_count": 10,
     "metadata": {},
     "output_type": "execute_result"
    }
   ],
   "source": [
    "#Score=2×(Protein_(g))−0.75×(Lipid_Tot_(g))\n",
    "weighted_protein = food_info[\"Protein_(g)\"] * 2\n",
    "weighted_fat = -0.75 * food_info[\"Lipid_Tot_(g)\"]\n",
    "initial_rating = weighted_protein + weighted_fat\n",
    "initial_rating"
   ]
  },
  {
   "cell_type": "code",
   "execution_count": null,
   "metadata": {
    "collapsed": false
   },
   "outputs": [],
   "source": [
    "# the \"Vit_A_IU\" column ranges from 0 to 100000, while the \"Fiber_TD_(g)\" column ranges from 0 to 79\n",
    "#For certain calculations, columns like \"Vit_A_IU\" can have a greater effect on the result, \n",
    "#due to the scale of the values\n",
    "# The largest value in the \"Energ_Kcal\" column.\n",
    "max_calories = food_info[\"Energ_Kcal\"].max()\n",
    "max_calories\n",
    "# Divide the values in \"Energ_Kcal\" by the largest value.\n",
    "normalized_calories = food_info[\"Energ_Kcal\"] / max_calories\n",
    "normalized_protein = food_info[\"Protein_(g)\"] / food_info[\"Protein_(g)\"].max()\n",
    "normalized_fat = food_info[\"Lipid_Tot_(g)\"] / food_info[\"Lipid_Tot_(g)\"].max()\n",
    "food_info[\"Normalized_Protein\"] = normalized_protein\n",
    "food_info[\"Normalized_Fat\"] = normalized_fat\n",
    "normalized_fat"
   ]
  },
  {
   "cell_type": "code",
   "execution_count": 12,
   "metadata": {
    "collapsed": false
   },
   "outputs": [
    {
     "name": "stdout",
     "output_type": "stream",
     "text": [
      "760     0.0\n",
      "2269    0.0\n",
      "763     0.0\n",
      "Name: Sodium_(mg), dtype: float64\n",
      "276     38758.0\n",
      "5814    27360.0\n",
      "6192    26050.0\n",
      "Name: Sodium_(mg), dtype: float64\n"
     ]
    }
   ],
   "source": [
    "#By default, pandas will sort the data by the column we specify in ascending order and return a new DataFrame\n",
    "# Sorts the DataFrame in-place, rather than returning a new DataFrame.\n",
    "#print(food_info[\"Sodium_(mg)\"]) \n",
    "#排序\n",
    "food_info.sort_values(\"Sodium_(mg)\", inplace=True)#从小到大的排序\n",
    "print (food_info[\"Sodium_(mg)\"].head(3))\n",
    "#Sorts by descending order, rather than ascending.\n",
    "food_info.sort_values(\"Sodium_(mg)\", inplace=True, ascending=False)#从大到小的排序\n",
    "print (food_info[\"Sodium_(mg)\"].head(3))"
   ]
  },
  {
   "cell_type": "code",
   "execution_count": null,
   "metadata": {
    "collapsed": true
   },
   "outputs": [],
   "source": []
  }
 ],
 "metadata": {
  "kernelspec": {
   "display_name": "Python [conda env:Anaconda3]",
   "language": "python",
   "name": "conda-env-Anaconda3-py"
  },
  "language_info": {
   "codemirror_mode": {
    "name": "ipython",
    "version": 3
   },
   "file_extension": ".py",
   "mimetype": "text/x-python",
   "name": "python",
   "nbconvert_exporter": "python",
   "pygments_lexer": "ipython3",
   "version": "3.5.2"
  }
 },
 "nbformat": 4,
 "nbformat_minor": 1
}
