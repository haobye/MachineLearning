{
 "cells": [
  {
   "cell_type": "code",
   "execution_count": 2,
   "metadata": {},
   "outputs": [],
   "source": [
    "import numpy as np\n",
    "import pandas as pd\n",
    "import matplotlib.pyplot as plt\n",
    "%matplotlib inline\n",
    "import seaborn as sns\n",
    "plt.style.use(\"fivethirtyeight\")\n",
    "import warnings\n",
    "warnings.filterwarnings(\"ignore\")"
   ]
  },
  {
   "cell_type": "code",
   "execution_count": 3,
   "metadata": {},
   "outputs": [
    {
     "data": {
      "text/html": [
       "<div>\n",
       "<style scoped>\n",
       "    .dataframe tbody tr th:only-of-type {\n",
       "        vertical-align: middle;\n",
       "    }\n",
       "\n",
       "    .dataframe tbody tr th {\n",
       "        vertical-align: top;\n",
       "    }\n",
       "\n",
       "    .dataframe thead th {\n",
       "        text-align: right;\n",
       "    }\n",
       "</style>\n",
       "<table border=\"1\" class=\"dataframe\">\n",
       "  <thead>\n",
       "    <tr style=\"text-align: right;\">\n",
       "      <th></th>\n",
       "      <th>PassengerId</th>\n",
       "      <th>Survived</th>\n",
       "      <th>Pclass</th>\n",
       "      <th>Name</th>\n",
       "      <th>Sex</th>\n",
       "      <th>Age</th>\n",
       "      <th>SibSp</th>\n",
       "      <th>Parch</th>\n",
       "      <th>Ticket</th>\n",
       "      <th>Fare</th>\n",
       "      <th>Cabin</th>\n",
       "      <th>Embarked</th>\n",
       "    </tr>\n",
       "  </thead>\n",
       "  <tbody>\n",
       "    <tr>\n",
       "      <th>0</th>\n",
       "      <td>1</td>\n",
       "      <td>0</td>\n",
       "      <td>3</td>\n",
       "      <td>Braund, Mr. Owen Harris</td>\n",
       "      <td>male</td>\n",
       "      <td>22.0</td>\n",
       "      <td>1</td>\n",
       "      <td>0</td>\n",
       "      <td>A/5 21171</td>\n",
       "      <td>7.2500</td>\n",
       "      <td>NaN</td>\n",
       "      <td>S</td>\n",
       "    </tr>\n",
       "    <tr>\n",
       "      <th>1</th>\n",
       "      <td>2</td>\n",
       "      <td>1</td>\n",
       "      <td>1</td>\n",
       "      <td>Cumings, Mrs. John Bradley (Florence Briggs Th...</td>\n",
       "      <td>female</td>\n",
       "      <td>38.0</td>\n",
       "      <td>1</td>\n",
       "      <td>0</td>\n",
       "      <td>PC 17599</td>\n",
       "      <td>71.2833</td>\n",
       "      <td>C85</td>\n",
       "      <td>C</td>\n",
       "    </tr>\n",
       "    <tr>\n",
       "      <th>2</th>\n",
       "      <td>3</td>\n",
       "      <td>1</td>\n",
       "      <td>3</td>\n",
       "      <td>Heikkinen, Miss. Laina</td>\n",
       "      <td>female</td>\n",
       "      <td>26.0</td>\n",
       "      <td>0</td>\n",
       "      <td>0</td>\n",
       "      <td>STON/O2. 3101282</td>\n",
       "      <td>7.9250</td>\n",
       "      <td>NaN</td>\n",
       "      <td>S</td>\n",
       "    </tr>\n",
       "    <tr>\n",
       "      <th>3</th>\n",
       "      <td>4</td>\n",
       "      <td>1</td>\n",
       "      <td>1</td>\n",
       "      <td>Futrelle, Mrs. Jacques Heath (Lily May Peel)</td>\n",
       "      <td>female</td>\n",
       "      <td>35.0</td>\n",
       "      <td>1</td>\n",
       "      <td>0</td>\n",
       "      <td>113803</td>\n",
       "      <td>53.1000</td>\n",
       "      <td>C123</td>\n",
       "      <td>S</td>\n",
       "    </tr>\n",
       "  </tbody>\n",
       "</table>\n",
       "</div>"
      ],
      "text/plain": [
       "   PassengerId  Survived  Pclass  \\\n",
       "0            1         0       3   \n",
       "1            2         1       1   \n",
       "2            3         1       3   \n",
       "3            4         1       1   \n",
       "\n",
       "                                                Name     Sex   Age  SibSp  \\\n",
       "0                            Braund, Mr. Owen Harris    male  22.0      1   \n",
       "1  Cumings, Mrs. John Bradley (Florence Briggs Th...  female  38.0      1   \n",
       "2                             Heikkinen, Miss. Laina  female  26.0      0   \n",
       "3       Futrelle, Mrs. Jacques Heath (Lily May Peel)  female  35.0      1   \n",
       "\n",
       "   Parch            Ticket     Fare Cabin Embarked  \n",
       "0      0         A/5 21171   7.2500   NaN        S  \n",
       "1      0          PC 17599  71.2833   C85        C  \n",
       "2      0  STON/O2. 3101282   7.9250   NaN        S  \n",
       "3      0            113803  53.1000  C123        S  "
      ]
     },
     "execution_count": 3,
     "metadata": {},
     "output_type": "execute_result"
    }
   ],
   "source": [
    "data = pd.read_csv(\"titanic_train.csv\")\n",
    "data.head(4)"
   ]
  },
  {
   "cell_type": "code",
   "execution_count": 4,
   "metadata": {},
   "outputs": [
    {
     "name": "stdout",
     "output_type": "stream",
     "text": [
      "<class 'pandas.core.frame.DataFrame'>\n",
      "RangeIndex: 891 entries, 0 to 890\n",
      "Data columns (total 12 columns):\n",
      "PassengerId    891 non-null int64\n",
      "Survived       891 non-null int64\n",
      "Pclass         891 non-null int64\n",
      "Name           891 non-null object\n",
      "Sex            891 non-null object\n",
      "Age            714 non-null float64\n",
      "SibSp          891 non-null int64\n",
      "Parch          891 non-null int64\n",
      "Ticket         891 non-null object\n",
      "Fare           891 non-null float64\n",
      "Cabin          204 non-null object\n",
      "Embarked       889 non-null object\n",
      "dtypes: float64(2), int64(5), object(5)\n",
      "memory usage: 83.6+ KB\n"
     ]
    }
   ],
   "source": [
    "data.info()"
   ]
  },
  {
   "cell_type": "code",
   "execution_count": 5,
   "metadata": {},
   "outputs": [
    {
     "data": {
      "text/plain": [
       "0    549\n",
       "1    342\n",
       "Name: Survived, dtype: int64"
      ]
     },
     "execution_count": 5,
     "metadata": {},
     "output_type": "execute_result"
    }
   ],
   "source": [
    "data.Survived.value_counts()"
   ]
  },
  {
   "cell_type": "code",
   "execution_count": 16,
   "metadata": {},
   "outputs": [
    {
     "data": {
      "text/plain": [
       "<matplotlib.axes._subplots.AxesSubplot at 0x20d44e5fc50>"
      ]
     },
     "execution_count": 16,
     "metadata": {},
     "output_type": "execute_result"
    },
    {
     "data": {
      "image/png": "[encoded data removed]",
      "text/plain": [
       "<Figure size 720x432 with 2 Axes>"
      ]
     },
     "metadata": {
      "needs_background": "light"
     },
     "output_type": "display_data"
    }
   ],
   "source": [
    "f,ax = plt.subplots(1,2,figsize=(10,6))\n",
    "data['Survived'].value_counts().plot.pie(\n",
    "    explode=[0,0.1]\n",
    "    ,autopct='%1.1f%%'\n",
    "    ,ax=ax[0]\n",
    "    ,shadow=True)\n",
    "ax[0].set_title('Survived')\n",
    "sns.countplot('Survived',saturation=0.75,data=data,ax=ax[1])"
   ]
  },
  {
   "cell_type": "code",
   "execution_count": 17,
   "metadata": {},
   "outputs": [
    {
     "data": {
      "text/plain": [
       "Sex     Survived\n",
       "female  0            81\n",
       "        1           233\n",
       "male    0           468\n",
       "        1           109\n",
       "Name: Survived, dtype: int64"
      ]
     },
     "execution_count": 17,
     "metadata": {},
     "output_type": "execute_result"
    }
   ],
   "source": [
    "data.groupby(['Sex','Survived'])['Survived'].count()"
   ]
  },
  {
   "cell_type": "code",
   "execution_count": 18,
   "metadata": {},
   "outputs": [
    {
     "data": {
      "text/plain": [
       "<matplotlib.axes._subplots.AxesSubplot at 0x20d44ec7668>"
      ]
     },
     "execution_count": 18,
     "metadata": {},
     "output_type": "execute_result"
    },
    {
     "data": {
      "image/png": "[encoded data removed]",
      "text/plain": [
       "<Figure size 432x288 with 1 Axes>"
      ]
     },
     "metadata": {
      "needs_background": "light"
     },
     "output_type": "display_data"
    }
   ],
   "source": [
    "sns.countplot('Sex',hue='Survived',data=data)"
   ]
  },
  {
   "cell_type": "code",
   "execution_count": 25,
   "metadata": {},
   "outputs": [
    {
     "data": {
      "text/html": [
       "<style  type=\"text/css\" >\n",
       "    #T_b062fa4a_66c2_11ea_8853_f0761c5c340drow0_col0 {\n",
       "            background-color:  #ffff66;\n",
       "        }    #T_b062fa4a_66c2_11ea_8853_f0761c5c340drow0_col1 {\n",
       "            background-color:  #cee666;\n",
       "        }    #T_b062fa4a_66c2_11ea_8853_f0761c5c340drow0_col2 {\n",
       "            background-color:  #f4fa66;\n",
       "        }    #T_b062fa4a_66c2_11ea_8853_f0761c5c340drow1_col0 {\n",
       "            background-color:  #f6fa66;\n",
       "        }    #T_b062fa4a_66c2_11ea_8853_f0761c5c340drow1_col1 {\n",
       "            background-color:  #ffff66;\n",
       "        }    #T_b062fa4a_66c2_11ea_8853_f0761c5c340drow1_col2 {\n",
       "            background-color:  #ffff66;\n",
       "        }    #T_b062fa4a_66c2_11ea_8853_f0761c5c340drow2_col0 {\n",
       "            background-color:  #60b066;\n",
       "        }    #T_b062fa4a_66c2_11ea_8853_f0761c5c340drow2_col1 {\n",
       "            background-color:  #dfef66;\n",
       "        }    #T_b062fa4a_66c2_11ea_8853_f0761c5c340drow2_col2 {\n",
       "            background-color:  #90c866;\n",
       "        }    #T_b062fa4a_66c2_11ea_8853_f0761c5c340drow3_col0 {\n",
       "            background-color:  #008066;\n",
       "        }    #T_b062fa4a_66c2_11ea_8853_f0761c5c340drow3_col1 {\n",
       "            background-color:  #008066;\n",
       "        }    #T_b062fa4a_66c2_11ea_8853_f0761c5c340drow3_col2 {\n",
       "            background-color:  #008066;\n",
       "        }</style>  \n",
       "<table id=\"T_b062fa4a_66c2_11ea_8853_f0761c5c340d\" > \n",
       "<thead>    <tr> \n",
       "        <th class=\"index_name level0\" >Survived</th> \n",
       "        <th class=\"col_heading level0 col0\" >0</th> \n",
       "        <th class=\"col_heading level0 col1\" >1</th> \n",
       "        <th class=\"col_heading level0 col2\" >All</th> \n",
       "    </tr>    <tr> \n",
       "        <th class=\"index_name level0\" >Pclass</th> \n",
       "        <th class=\"blank\" ></th> \n",
       "        <th class=\"blank\" ></th> \n",
       "        <th class=\"blank\" ></th> \n",
       "    </tr></thead> \n",
       "<tbody>    <tr> \n",
       "        <th id=\"T_b062fa4a_66c2_11ea_8853_f0761c5c340dlevel0_row0\" class=\"row_heading level0 row0\" >1</th> \n",
       "        <td id=\"T_b062fa4a_66c2_11ea_8853_f0761c5c340drow0_col0\" class=\"data row0 col0\" >80</td> \n",
       "        <td id=\"T_b062fa4a_66c2_11ea_8853_f0761c5c340drow0_col1\" class=\"data row0 col1\" >136</td> \n",
       "        <td id=\"T_b062fa4a_66c2_11ea_8853_f0761c5c340drow0_col2\" class=\"data row0 col2\" >216</td> \n",
       "    </tr>    <tr> \n",
       "        <th id=\"T_b062fa4a_66c2_11ea_8853_f0761c5c340dlevel0_row1\" class=\"row_heading level0 row1\" >2</th> \n",
       "        <td id=\"T_b062fa4a_66c2_11ea_8853_f0761c5c340drow1_col0\" class=\"data row1 col0\" >97</td> \n",
       "        <td id=\"T_b062fa4a_66c2_11ea_8853_f0761c5c340drow1_col1\" class=\"data row1 col1\" >87</td> \n",
       "        <td id=\"T_b062fa4a_66c2_11ea_8853_f0761c5c340drow1_col2\" class=\"data row1 col2\" >184</td> \n",
       "    </tr>    <tr> \n",
       "        <th id=\"T_b062fa4a_66c2_11ea_8853_f0761c5c340dlevel0_row2\" class=\"row_heading level0 row2\" >3</th> \n",
       "        <td id=\"T_b062fa4a_66c2_11ea_8853_f0761c5c340drow2_col0\" class=\"data row2 col0\" >372</td> \n",
       "        <td id=\"T_b062fa4a_66c2_11ea_8853_f0761c5c340drow2_col1\" class=\"data row2 col1\" >119</td> \n",
       "        <td id=\"T_b062fa4a_66c2_11ea_8853_f0761c5c340drow2_col2\" class=\"data row2 col2\" >491</td> \n",
       "    </tr>    <tr> \n",
       "        <th id=\"T_b062fa4a_66c2_11ea_8853_f0761c5c340dlevel0_row3\" class=\"row_heading level0 row3\" >All</th> \n",
       "        <td id=\"T_b062fa4a_66c2_11ea_8853_f0761c5c340drow3_col0\" class=\"data row3 col0\" >549</td> \n",
       "        <td id=\"T_b062fa4a_66c2_11ea_8853_f0761c5c340drow3_col1\" class=\"data row3 col1\" >342</td> \n",
       "        <td id=\"T_b062fa4a_66c2_11ea_8853_f0761c5c340drow3_col2\" class=\"data row3 col2\" >891</td> \n",
       "    </tr></tbody> \n",
       "</table> "
      ],
      "text/plain": [
       "<pandas.io.formats.style.Styler at 0x20d44dcd898>"
      ]
     },
     "execution_count": 25,
     "metadata": {},
     "output_type": "execute_result"
    }
   ],
   "source": [
    "pd.crosstab(data.Pclass,data.Survived,margins=True).style.background_gradient(cmap='summer_r')"
   ]
  },
  {
   "cell_type": "code",
   "execution_count": 26,
   "metadata": {},
   "outputs": [
    {
     "data": {
      "text/plain": [
       "<matplotlib.axes._subplots.AxesSubplot at 0x20d453e7eb8>"
      ]
     },
     "execution_count": 26,
     "metadata": {},
     "output_type": "execute_result"
    },
    {
     "data": {
      "image/png": "[encoded data removed]",
      "text/plain": [
       "<Figure size 432x288 with 1 Axes>"
      ]
     },
     "metadata": {
      "needs_background": "light"
     },
     "output_type": "display_data"
    }
   ],
   "source": [
    "sns.countplot('Pclass',hue='Survived',data=data)"
   ]
  },
  {
   "cell_type": "code",
   "execution_count": 27,
   "metadata": {},
   "outputs": [
    {
     "data": {
      "text/html": [
       "<style  type=\"text/css\" >\n",
       "    #T_d85f0eca_66c2_11ea_a73d_f0761c5c340drow0_col0 {\n",
       "            background-color:  #ffff66;\n",
       "        }    #T_d85f0eca_66c2_11ea_a73d_f0761c5c340drow0_col1 {\n",
       "            background-color:  #ffff66;\n",
       "        }    #T_d85f0eca_66c2_11ea_a73d_f0761c5c340drow0_col2 {\n",
       "            background-color:  #f1f866;\n",
       "        }    #T_d85f0eca_66c2_11ea_a73d_f0761c5c340drow0_col3 {\n",
       "            background-color:  #ffff66;\n",
       "        }    #T_d85f0eca_66c2_11ea_a73d_f0761c5c340drow1_col0 {\n",
       "            background-color:  #96cb66;\n",
       "        }    #T_d85f0eca_66c2_11ea_a73d_f0761c5c340drow1_col1 {\n",
       "            background-color:  #a3d166;\n",
       "        }    #T_d85f0eca_66c2_11ea_a73d_f0761c5c340drow1_col2 {\n",
       "            background-color:  #f1f866;\n",
       "        }    #T_d85f0eca_66c2_11ea_a73d_f0761c5c340drow1_col3 {\n",
       "            background-color:  #cfe766;\n",
       "        }    #T_d85f0eca_66c2_11ea_a73d_f0761c5c340drow2_col0 {\n",
       "            background-color:  #a7d366;\n",
       "        }    #T_d85f0eca_66c2_11ea_a73d_f0761c5c340drow2_col1 {\n",
       "            background-color:  #85c266;\n",
       "        }    #T_d85f0eca_66c2_11ea_a73d_f0761c5c340drow2_col2 {\n",
       "            background-color:  #6eb666;\n",
       "        }    #T_d85f0eca_66c2_11ea_a73d_f0761c5c340drow2_col3 {\n",
       "            background-color:  #85c266;\n",
       "        }    #T_d85f0eca_66c2_11ea_a73d_f0761c5c340drow3_col0 {\n",
       "            background-color:  #cde666;\n",
       "        }    #T_d85f0eca_66c2_11ea_a73d_f0761c5c340drow3_col1 {\n",
       "            background-color:  #f0f866;\n",
       "        }    #T_d85f0eca_66c2_11ea_a73d_f0761c5c340drow3_col2 {\n",
       "            background-color:  #ffff66;\n",
       "        }    #T_d85f0eca_66c2_11ea_a73d_f0761c5c340drow3_col3 {\n",
       "            background-color:  #f7fb66;\n",
       "        }    #T_d85f0eca_66c2_11ea_a73d_f0761c5c340drow4_col0 {\n",
       "            background-color:  #008066;\n",
       "        }    #T_d85f0eca_66c2_11ea_a73d_f0761c5c340drow4_col1 {\n",
       "            background-color:  #008066;\n",
       "        }    #T_d85f0eca_66c2_11ea_a73d_f0761c5c340drow4_col2 {\n",
       "            background-color:  #008066;\n",
       "        }    #T_d85f0eca_66c2_11ea_a73d_f0761c5c340drow4_col3 {\n",
       "            background-color:  #008066;\n",
       "        }</style>  \n",
       "<table id=\"T_d85f0eca_66c2_11ea_a73d_f0761c5c340d\" > \n",
       "<thead>    <tr> \n",
       "        <th class=\"blank\" ></th> \n",
       "        <th class=\"index_name level0\" >Pclass</th> \n",
       "        <th class=\"col_heading level0 col0\" >1</th> \n",
       "        <th class=\"col_heading level0 col1\" >2</th> \n",
       "        <th class=\"col_heading level0 col2\" >3</th> \n",
       "        <th class=\"col_heading level0 col3\" >All</th> \n",
       "    </tr>    <tr> \n",
       "        <th class=\"index_name level0\" >Sex</th> \n",
       "        <th class=\"index_name level1\" >Survived</th> \n",
       "        <th class=\"blank\" ></th> \n",
       "        <th class=\"blank\" ></th> \n",
       "        <th class=\"blank\" ></th> \n",
       "        <th class=\"blank\" ></th> \n",
       "    </tr></thead> \n",
       "<tbody>    <tr> \n",
       "        <th id=\"T_d85f0eca_66c2_11ea_a73d_f0761c5c340dlevel0_row0\" class=\"row_heading level0 row0\" rowspan=2>female</th> \n",
       "        <th id=\"T_d85f0eca_66c2_11ea_a73d_f0761c5c340dlevel1_row0\" class=\"row_heading level1 row0\" >0</th> \n",
       "        <td id=\"T_d85f0eca_66c2_11ea_a73d_f0761c5c340drow0_col0\" class=\"data row0 col0\" >3</td> \n",
       "        <td id=\"T_d85f0eca_66c2_11ea_a73d_f0761c5c340drow0_col1\" class=\"data row0 col1\" >6</td> \n",
       "        <td id=\"T_d85f0eca_66c2_11ea_a73d_f0761c5c340drow0_col2\" class=\"data row0 col2\" >72</td> \n",
       "        <td id=\"T_d85f0eca_66c2_11ea_a73d_f0761c5c340drow0_col3\" class=\"data row0 col3\" >81</td> \n",
       "    </tr>    <tr> \n",
       "        <th id=\"T_d85f0eca_66c2_11ea_a73d_f0761c5c340dlevel1_row1\" class=\"row_heading level1 row1\" >1</th> \n",
       "        <td id=\"T_d85f0eca_66c2_11ea_a73d_f0761c5c340drow1_col0\" class=\"data row1 col0\" >91</td> \n",
       "        <td id=\"T_d85f0eca_66c2_11ea_a73d_f0761c5c340drow1_col1\" class=\"data row1 col1\" >70</td> \n",
       "        <td id=\"T_d85f0eca_66c2_11ea_a73d_f0761c5c340drow1_col2\" class=\"data row1 col2\" >72</td> \n",
       "        <td id=\"T_d85f0eca_66c2_11ea_a73d_f0761c5c340drow1_col3\" class=\"data row1 col3\" >233</td> \n",
       "    </tr>    <tr> \n",
       "        <th id=\"T_d85f0eca_66c2_11ea_a73d_f0761c5c340dlevel0_row2\" class=\"row_heading level0 row2\" rowspan=2>male</th> \n",
       "        <th id=\"T_d85f0eca_66c2_11ea_a73d_f0761c5c340dlevel1_row2\" class=\"row_heading level1 row2\" >0</th> \n",
       "        <td id=\"T_d85f0eca_66c2_11ea_a73d_f0761c5c340drow2_col0\" class=\"data row2 col0\" >77</td> \n",
       "        <td id=\"T_d85f0eca_66c2_11ea_a73d_f0761c5c340drow2_col1\" class=\"data row2 col1\" >91</td> \n",
       "        <td id=\"T_d85f0eca_66c2_11ea_a73d_f0761c5c340drow2_col2\" class=\"data row2 col2\" >300</td> \n",
       "        <td id=\"T_d85f0eca_66c2_11ea_a73d_f0761c5c340drow2_col3\" class=\"data row2 col3\" >468</td> \n",
       "    </tr>    <tr> \n",
       "        <th id=\"T_d85f0eca_66c2_11ea_a73d_f0761c5c340dlevel1_row3\" class=\"row_heading level1 row3\" >1</th> \n",
       "        <td id=\"T_d85f0eca_66c2_11ea_a73d_f0761c5c340drow3_col0\" class=\"data row3 col0\" >45</td> \n",
       "        <td id=\"T_d85f0eca_66c2_11ea_a73d_f0761c5c340drow3_col1\" class=\"data row3 col1\" >17</td> \n",
       "        <td id=\"T_d85f0eca_66c2_11ea_a73d_f0761c5c340drow3_col2\" class=\"data row3 col2\" >47</td> \n",
       "        <td id=\"T_d85f0eca_66c2_11ea_a73d_f0761c5c340drow3_col3\" class=\"data row3 col3\" >109</td> \n",
       "    </tr>    <tr> \n",
       "        <th id=\"T_d85f0eca_66c2_11ea_a73d_f0761c5c340dlevel0_row4\" class=\"row_heading level0 row4\" >All</th> \n",
       "        <th id=\"T_d85f0eca_66c2_11ea_a73d_f0761c5c340dlevel1_row4\" class=\"row_heading level1 row4\" ></th> \n",
       "        <td id=\"T_d85f0eca_66c2_11ea_a73d_f0761c5c340drow4_col0\" class=\"data row4 col0\" >216</td> \n",
       "        <td id=\"T_d85f0eca_66c2_11ea_a73d_f0761c5c340drow4_col1\" class=\"data row4 col1\" >184</td> \n",
       "        <td id=\"T_d85f0eca_66c2_11ea_a73d_f0761c5c340drow4_col2\" class=\"data row4 col2\" >491</td> \n",
       "        <td id=\"T_d85f0eca_66c2_11ea_a73d_f0761c5c340drow4_col3\" class=\"data row4 col3\" >891</td> \n",
       "    </tr></tbody> \n",
       "</table> "
      ],
      "text/plain": [
       "<pandas.io.formats.style.Styler at 0x20d4542dba8>"
      ]
     },
     "execution_count": 27,
     "metadata": {},
     "output_type": "execute_result"
    }
   ],
   "source": [
    "pd.crosstab([data.Sex,data.Survived]\n",
    "           ,data.Pclass\n",
    "           ,margins=True).style.background_gradient(cmap='summer_r')"
   ]
  },
  {
   "cell_type": "code",
   "execution_count": 28,
   "metadata": {},
   "outputs": [
    {
     "data": {
      "text/plain": [
       "<seaborn.axisgrid.FacetGrid at 0x20d44ec7898>"
      ]
     },
     "execution_count": 28,
     "metadata": {},
     "output_type": "execute_result"
    },
    {
     "data": {
      "image/png": "[encoded data removed]",
      "text/plain": [
       "<Figure size 430.5x360 with 1 Axes>"
      ]
     },
     "metadata": {
      "needs_background": "light"
     },
     "output_type": "display_data"
    }
   ],
   "source": [
    "sns.factorplot('Pclass','Survived',hue='Sex',data=data)"
   ]
  },
  {
   "cell_type": "code",
   "execution_count": null,
   "metadata": {},
   "outputs": [],
   "source": []
  }
 ],
 "metadata": {
  "kernelspec": {
   "display_name": "Python 3",
   "language": "python",
   "name": "python3"
  },
  "language_info": {
   "codemirror_mode": {
    "name": "ipython",
    "version": 3
   },
   "file_extension": ".py",
   "mimetype": "text/x-python",
   "name": "python",
   "nbconvert_exporter": "python",
   "pygments_lexer": "ipython3",
   "version": "3.7.0"
  }
 },
 "nbformat": 4,
 "nbformat_minor": 2
}
