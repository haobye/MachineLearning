{
 "cells": [
  {
   "cell_type": "code",
   "execution_count": 2,
   "metadata": {},
   "outputs": [
    {
     "name": "stdout",
     "output_type": "stream",
     "text": [
      "Microsoft Windows [版本 10.0.16299.1004]\r\n",
      "(c) 2017 Microsoft Corporation。保留所有权利。\r\n",
      "\r\n",
      "F:\\jupyter\\python机器学习>pip install watermark\n",
      "Requirement already satisfied: watermark in d:\\anaconda3\\lib\\site-packages (2.0.2)\r\n",
      "Requirement already satisfied: ipython in d:\\anaconda3\\lib\\site-packages (from watermark) (6.5.0)\r\n",
      "Requirement already satisfied: pickleshare in d:\\anaconda3\\lib\\site-packages (from ipython->watermark) (0.7.4)\r\n",
      "Requirement already satisfied: pygments in d:\\anaconda3\\lib\\site-packages (from ipython->watermark) (2.2.0)\r\n",
      "Requirement already satisfied: simplegeneric>0.8 in d:\\anaconda3\\lib\\site-packages (from ipython->watermark) (0.8.1)\r\n",
      "Requirement already satisfied: colorama; sys_platform == \"win32\" in d:\\anaconda3\\lib\\site-packages (from ipython->watermark) (0.3.9)\r\n",
      "Requirement already satisfied: prompt-toolkit<2.0.0,>=1.0.15 in d:\\anaconda3\\lib\\site-packages (from ipython->watermark) (1.0.15)\r\n",
      "Requirement already satisfied: backcall in d:\\anaconda3\\lib\\site-packages (from ipython->watermark) (0.1.0)\r\n",
      "Requirement already satisfied: traitlets>=4.2 in d:\\anaconda3\\lib\\site-packages (from ipython->watermark) (4.3.2)\r\n",
      "Requirement already satisfied: jedi>=0.10 in d:\\anaconda3\\lib\\site-packages (from ipython->watermark) (0.12.1)\r\n",
      "Requirement already satisfied: setuptools>=18.5 in d:\\anaconda3\\lib\\site-packages (from ipython->watermark) (40.2.0)\r\n",
      "Requirement already satisfied: decorator in d:\\anaconda3\\lib\\site-packages (from ipython->watermark) (4.3.0)\r\n",
      "Requirement already satisfied: six>=1.9.0 in d:\\anaconda3\\lib\\site-packages (from prompt-toolkit<2.0.0,>=1.0.15->ipython->watermark) (1.11.0)\r\n",
      "Requirement already satisfied: wcwidth in d:\\anaconda3\\lib\\site-packages (from prompt-toolkit<2.0.0,>=1.0.15->ipython->watermark) (0.1.7)\r\n",
      "Requirement already satisfied: ipython-genutils in d:\\anaconda3\\lib\\site-packages (from traitlets>=4.2->ipython->watermark) (0.2.0)\r\n",
      "Requirement already satisfied: parso>=0.3.0 in d:\\anaconda3\\lib\\site-packages (from jedi>=0.10->ipython->watermark) (0.3.1)\r\n",
      "\r\n",
      "F:\\jupyter\\python机器学习>"
     ]
    }
   ],
   "source": [
    "%%cmd\n",
    "pip install watermark"
   ]
  },
  {
   "cell_type": "code",
   "execution_count": 3,
   "metadata": {},
   "outputs": [],
   "source": [
    "%load_ext watermark"
   ]
  },
  {
   "cell_type": "code",
   "execution_count": 6,
   "metadata": {
    "scrolled": true
   },
   "outputs": [
    {
     "name": "stdout",
     "output_type": "stream",
     "text": [
      "hanchonghao 2020-02-19 \n",
      "\n",
      "CPython 3.7.0\n",
      "IPython 6.5.0\n",
      "\n",
      "numpy 1.15.1\n",
      "pandas 0.23.4\n",
      "matplotlib 2.2.3\n",
      "scipy 1.1.0\n",
      "seaborn 0.9.0\n",
      "sklearn 0.19.2\n",
      "\n",
      "compiler   : MSC v.1912 64 bit (AMD64)\n",
      "system     : Windows\n",
      "release    : 10\n",
      "machine    : AMD64\n",
      "processor  : Intel64 Family 6 Model 55 Stepping 8, GenuineIntel\n",
      "CPU cores  : 2\n",
      "interpreter: 64bit\n"
     ]
    }
   ],
   "source": [
    "%watermark -a \"hanchonghao\" -d -v -m -p numpy,pandas,matplotlib,scipy,seaborn,sklearn"
   ]
  },
  {
   "cell_type": "code",
   "execution_count": null,
   "metadata": {},
   "outputs": [],
   "source": []
  }
 ],
 "metadata": {
  "kernelspec": {
   "display_name": "Python 3",
   "language": "python",
   "name": "python3"
  },
  "language_info": {
   "codemirror_mode": {
    "name": "ipython",
    "version": 3
   },
   "file_extension": ".py",
   "mimetype": "text/x-python",
   "name": "python",
   "nbconvert_exporter": "python",
   "pygments_lexer": "ipython3",
   "version": "3.7.0"
  }
 },
 "nbformat": 4,
 "nbformat_minor": 2
}
