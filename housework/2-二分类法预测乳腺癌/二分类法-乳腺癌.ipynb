{
 "cells": [
  {
   "cell_type": "code",
   "execution_count": 4,
   "metadata": {},
   "outputs": [
    {
     "name": "stdout",
     "output_type": "stream",
     "text": [
      "准确率： 0.9532163742690059\n",
      "召回率：              precision    recall  f1-score   support\n",
      "\n",
      "         良性       0.96      0.96      0.96       114\n",
      "         恶性       0.93      0.93      0.93        57\n",
      "\n",
      "avg / total       0.95      0.95      0.95       171\n",
      "\n",
      "保存的模型预测的结果： [2 2 2 2 2 2 4 4 4 4 4]\n"
     ]
    }
   ],
   "source": [
    "from sklearn.linear_model import LogisticRegression\n",
    "from sklearn.model_selection import train_test_split\n",
    "from sklearn.preprocessing import StandardScaler\n",
    "from sklearn.metrics import classification_report\n",
    "from sklearn.externals import joblib\n",
    "import pandas as pd\n",
    "import numpy as np\n",
    "\n",
    "\n",
    "\n",
    "def logistic():\n",
    "    \"\"\"\n",
    "    逻辑回归做二分类进行癌症预测（根据细胞的属性特征）\n",
    "    \n",
    "    \"\"\"\n",
    "    # 构造列标签名字,一共11个\n",
    "    column = ['Sample code number','Clump Thickness', 'Uniformity of Cell Size','Uniformity of Cell Shape','Marginal Adhesion', 'Single Epithelial Cell Size','Bare Nuclei','Bland Chromatin','Normal Nucleoli','Mitoses','Class']\n",
    "\n",
    "    # 读取数据\n",
    "    data = pd.read_csv(r\"./breast-cancer-wisconsin.csv\",engine='python',names=column)\n",
    "#     print(data)\n",
    "\n",
    "    # 缺失值进行处理\n",
    "    data = data.replace(to_replace='?', value=np.nan)\n",
    "\n",
    "    data = data.dropna()\n",
    "#     print(data)\n",
    "\n",
    "    # 进行数据的分割，1到10列为特征值，11列为目标值\n",
    "    x_train, x_test, y_train, y_test = train_test_split(data[column[1:10]], data[column[10]], test_size=0.25)\n",
    "\n",
    "    # 进行标准化处理\n",
    "    std = StandardScaler()\n",
    "\n",
    "    x_train = std.fit_transform(x_train)\n",
    "    x_test = std.transform(x_test)\n",
    "\n",
    "    # 逻辑回归预测\n",
    "    lg = LogisticRegression(C=1.0)\n",
    "\n",
    "    lg.fit(x_train, y_train)\n",
    "\n",
    "#     print(lg.coef_)\n",
    "\n",
    "    y_predict = lg.predict(x_test)\n",
    "\n",
    "    print(\"准确率：\", lg.score(x_test, y_test))\n",
    "\n",
    "    print(\"召回率：\", classification_report(y_test, y_predict, labels=[2, 4], target_names=[\"良性\", \"恶性\"]))\n",
    "\n",
    "  \n",
    "   \n",
    "    \n",
    "    \n",
    "    #保存训练好的模型\n",
    "    joblib.dump(lg, \"./lg.pkl\")\n",
    "    \n",
    "    #加载模型，预测自己的数据\n",
    "    model = joblib.load(\"./lg.pkl\")\n",
    "    \n",
    "    \n",
    "    data = pd.read_csv(r\"./breast-litter.csv\",engine='python',names=column)\n",
    "\n",
    "    xx_test= data[column[1:10]]  #获取特征值1 到 10 列，\n",
    "    xx_test = std.transform(xx_test)\n",
    "    \n",
    "    yy_predict = model.predict(xx_test)\n",
    "\n",
    "    print(\"保存的模型预测的结果：\", yy_predict)\n",
    "\n",
    "\n",
    "logistic()\n"
   ]
  },
  {
   "cell_type": "code",
   "execution_count": null,
   "metadata": {},
   "outputs": [],
   "source": []
  }
 ],
 "metadata": {
  "kernelspec": {
   "display_name": "Python 3",
   "language": "python",
   "name": "python3"
  },
  "language_info": {
   "codemirror_mode": {
    "name": "ipython",
    "version": 3
   },
   "file_extension": ".py",
   "mimetype": "text/x-python",
   "name": "python",
   "nbconvert_exporter": "python",
   "pygments_lexer": "ipython3",
   "version": "3.7.0"
  }
 },
 "nbformat": 4,
 "nbformat_minor": 2
}
