{
 "cells": [
  {
   "cell_type": "code",
   "execution_count": 1,
   "metadata": {
    "collapsed": false
   },
   "outputs": [
    {
     "name": "stdout",
     "output_type": "stream",
     "text": [
      "[0 1 2]\n",
      "[ 1.          2.71828183  7.3890561 ]\n",
      "[ 0.          1.          1.41421356]\n"
     ]
    }
   ],
   "source": [
    "import numpy as np\n",
    "B = np.arange(3)\n",
    "print (B)\n",
    "print (np.exp(B))\n",
    "print (np.sqrt(B))"
   ]
  },
  {
   "cell_type": "code",
   "execution_count": 15,
   "metadata": {
    "collapsed": false
   },
   "outputs": [
    {
     "name": "stdout",
     "output_type": "stream",
     "text": [
      "[[ 1.  1.  9.  5.]\n",
      " [ 1.  7.  7.  9.]\n",
      " [ 4.  4.  4.  4.]]\n",
      "____\n",
      "[ 1.  1.  9.  5.  1.  7.  7.  9.  4.  4.  4.  4.]\n",
      "____\n",
      "[[ 1.  1.  9.  5.]\n",
      " [ 1.  7.  7.  9.]\n",
      " [ 4.  4.  4.  4.]]\n",
      "____\n",
      "[[ 1.  1.]\n",
      " [ 9.  5.]\n",
      " [ 1.  7.]\n",
      " [ 7.  9.]\n",
      " [ 4.  4.]\n",
      " [ 4.  4.]]\n",
      "____\n",
      "[[ 1.  9.  1.  7.  4.  4.]\n",
      " [ 1.  5.  7.  9.  4.  4.]]\n",
      "____\n",
      "[[ 1.  1.  9.]\n",
      " [ 5.  1.  7.]\n",
      " [ 7.  9.  4.]\n",
      " [ 4.  4.  4.]]\n"
     ]
    }
   ],
   "source": [
    "\n",
    "a = np.floor(10*np.random.random((3,4)))#向下的取整\n",
    "print (a)\n",
    "print(\"____\")\n",
    "\n",
    "#a.shape\n",
    "## flatten the array\n",
    "print (a.ravel())#矩阵拉成了向量\n",
    "print(\"____\")\n",
    "a.reshape (3,-1)\n",
    "print (a)\n",
    "print(\"____\")\n",
    "a.shape = (6, 2)\n",
    "print(a)\n",
    "print(\"____\")\n",
    "print (a.T)\n",
    "print(\"____\")\n",
    "a.resize((4,3))\n",
    "print (a)\n",
    "\n",
    "#If a dimension is given as -1 in a reshaping operation, the other dimensions are automatically calculated:\n",
    "#a.reshape(3,-1)"
   ]
  },
  {
   "cell_type": "code",
   "execution_count": 17,
   "metadata": {
    "collapsed": false
   },
   "outputs": [
    {
     "name": "stdout",
     "output_type": "stream",
     "text": [
      "[[ 5.  3.]\n",
      " [ 2.  8.]]\n",
      "---\n",
      "[[ 2.  0.]\n",
      " [ 2.  7.]]\n",
      "---\n",
      "[[ 5.  3.  2.  0.]\n",
      " [ 2.  8.  2.  7.]]\n",
      "---\n",
      "[[ 5.  3.]\n",
      " [ 2.  8.]\n",
      " [ 2.  0.]\n",
      " [ 2.  7.]]\n"
     ]
    }
   ],
   "source": [
    "#矩阵的拼接   \n",
    "a = np.floor(10*np.random.random((2,2)))\n",
    "b = np.floor(10*np.random.random((2,2)))\n",
    "print(a)\n",
    "print ('---')\n",
    "print (b)\n",
    "print ('---')\n",
    "print (np.hstack((a,b)))#横着拼\n",
    "print ('---')\n",
    "print (np.vstack((a,b)))#竖着拼\n"
   ]
  },
  {
   "cell_type": "code",
   "execution_count": 22,
   "metadata": {
    "collapsed": false
   },
   "outputs": [
    {
     "name": "stdout",
     "output_type": "stream",
     "text": [
      "[[ 1.  5.  3.  5.  3.  7.  6.  1.  3.  3.  1.  5.]\n",
      " [ 4.  5.  3.  9.  4.  3.  7.  5.  2.  5.  1.  7.]\n",
      " [ 4.  1.  2.  1.  7.  0.  8.  3.  1.  3.  2.  2.]]\n",
      "---\n",
      "[array([[ 1.,  5.,  3.,  5.],\n",
      "       [ 4.,  5.,  3.,  9.],\n",
      "       [ 4.,  1.,  2.,  1.]]), array([[ 3.,  7.,  6.,  1.],\n",
      "       [ 4.,  3.,  7.,  5.],\n",
      "       [ 7.,  0.,  8.,  3.]]), array([[ 3.,  3.,  1.,  5.],\n",
      "       [ 2.,  5.,  1.,  7.],\n",
      "       [ 1.,  3.,  2.,  2.]])]\n",
      "---\n",
      "[array([[ 1.,  5.,  3.],\n",
      "       [ 4.,  5.,  3.],\n",
      "       [ 4.,  1.,  2.]]), array([[ 5.],\n",
      "       [ 9.],\n",
      "       [ 1.]]), array([[ 3.,  7.,  6.,  1.,  3.,  3.,  1.,  5.],\n",
      "       [ 4.,  3.,  7.,  5.,  2.,  5.,  1.,  7.],\n",
      "       [ 7.,  0.,  8.,  3.,  1.,  3.,  2.,  2.]])]\n",
      "---\n",
      "[[ 3.  6.  9.]\n",
      " [ 3.  1.  1.]\n",
      " [ 8.  1.  7.]\n",
      " [ 2.  9.  4.]\n",
      " [ 4.  6.  7.]\n",
      " [ 5.  3.  4.]\n",
      " [ 7.  1.  6.]\n",
      " [ 6.  5.  7.]\n",
      " [ 9.  1.  3.]\n",
      " [ 6.  5.  4.]\n",
      " [ 4.  7.  2.]\n",
      " [ 1.  9.  4.]]\n",
      "[array([[ 3.,  6.,  9.],\n",
      "       [ 3.,  1.,  1.],\n",
      "       [ 8.,  1.,  7.],\n",
      "       [ 2.,  9.,  4.]]), array([[ 4.,  6.,  7.],\n",
      "       [ 5.,  3.,  4.],\n",
      "       [ 7.,  1.,  6.],\n",
      "       [ 6.,  5.,  7.]]), array([[ 9.,  1.,  3.],\n",
      "       [ 6.,  5.,  4.],\n",
      "       [ 4.,  7.,  2.],\n",
      "       [ 1.,  9.,  4.]])]\n"
     ]
    }
   ],
   "source": [
    "#数据切分\n",
    "a = np.floor(10*np.random.random((3,12)))\n",
    "print (a)\n",
    "print ('---')\n",
    "print (np.hsplit(a,3))\n",
    "print ('---')\n",
    "print (np.hsplit(a,(3,4)) )  # 传（3,4）元祖，在3,4位置切分\n",
    "a = np.floor(10*np.random.random((12,3)))\n",
    "print ('---')\n",
    "print (a)\n",
    "print(np.vsplit(a,3))"
   ]
  },
  {
   "cell_type": "code",
   "execution_count": 26,
   "metadata": {
    "collapsed": false
   },
   "outputs": [
    {
     "name": "stdout",
     "output_type": "stream",
     "text": [
      "True\n",
      "[[ 0  1  2  3]\n",
      " [ 4  5  6  7]\n",
      " [ 8  9 10 11]]\n",
      "[[ 0  1  2  3]\n",
      " [ 4  5  6  7]\n",
      " [ 8  9 10 11]]\n",
      "(3, 4)\n"
     ]
    }
   ],
   "source": [
    "#复制操作\n",
    "a = np.arange(12)\n",
    "b = a\n",
    "# a and b are two names for the same ndarray object\n",
    "print(b is a)\n",
    "b.shape = 3,4\n",
    "print(b)\n",
    "print(a)\n",
    "print (a.shape)"
   ]
  },
  {
   "cell_type": "code",
   "execution_count": 30,
   "metadata": {
    "collapsed": false
   },
   "outputs": [
    {
     "name": "stdout",
     "output_type": "stream",
     "text": [
      "False\n",
      "(2, 6)\n",
      "(3, 4)\n",
      "[[   0    1    2    3]\n",
      " [1234    5    6    7]\n",
      " [   8    9   10   11]]\n",
      "119858880\n",
      "119859840\n"
     ]
    }
   ],
   "source": [
    "#The view method creates a new array object that looks at the same data.\n",
    "#复制 值一样，所指向的位置都不一样\n",
    "c = a.view()\n",
    "print(c is a)\n",
    "c.shape = 2,6\n",
    "print( c.shape)\n",
    "print( a.shape)\n",
    "c[0,4] = 1234\n",
    "print(a)\n",
    "print(id(a))\n",
    "print(id(c))"
   ]
  },
  {
   "cell_type": "code",
   "execution_count": 31,
   "metadata": {
    "collapsed": false
   },
   "outputs": [
    {
     "name": "stdout",
     "output_type": "stream",
     "text": [
      "False\n",
      "[[9999    1    2    3]\n",
      " [1234    5    6    7]\n",
      " [   8    9   10   11]]\n",
      "[[   0    1    2    3]\n",
      " [1234    5    6    7]\n",
      " [   8    9   10   11]]\n"
     ]
    }
   ],
   "source": [
    "#The copy method makes a complete copy of the array and its data.\n",
    "#复制 值和所指向的位置都不一样\n",
    "d = a.copy() \n",
    "print(d is a)\n",
    "d[0,0] = 9999\n",
    "print (d)\n",
    "print (a)"
   ]
  },
  {
   "cell_type": "code",
   "execution_count": null,
   "metadata": {
    "collapsed": true
   },
   "outputs": [],
   "source": []
  }
 ],
 "metadata": {
  "anaconda-cloud": {},
  "kernelspec": {
   "display_name": "Python [conda env:Anaconda3]",
   "language": "python",
   "name": "conda-env-Anaconda3-py"
  },
  "language_info": {
   "codemirror_mode": {
    "name": "ipython",
    "version": 3
   },
   "file_extension": ".py",
   "mimetype": "text/x-python",
   "name": "python",
   "nbconvert_exporter": "python",
   "pygments_lexer": "ipython3",
   "version": "3.5.2"
  }
 },
 "nbformat": 4,
 "nbformat_minor": 1
}
