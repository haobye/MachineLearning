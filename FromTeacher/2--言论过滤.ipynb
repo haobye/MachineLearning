{
 "cells": [
  {
   "cell_type": "code",
   "execution_count": 1,
   "metadata": {},
   "outputs": [],
   "source": [
    "import numpy as np\n",
    "import pandas as pd"
   ]
  },
  {
   "cell_type": "code",
   "execution_count": 2,
   "metadata": {},
   "outputs": [],
   "source": [
    "\"\"\"\n",
    "函数功能：创建实验数据集\n",
    "参数说明：无参数\n",
    "返回：\n",
    "postingList：切分好的样本词条\n",
    "classVec：类标签向量\n",
    "\"\"\"\n",
    "def loadDataSet():\n",
    "    dataSet=[['my', 'dog', 'has', 'flea', 'problems', 'help', 'please'],    \n",
    "            ['maybe', 'not', 'take', 'him', 'to', 'dog', 'park', 'stupid'],\n",
    "            ['my', 'dalmation', 'is', 'so', 'cute', 'I', 'love', 'him'],\n",
    "            ['stop', 'posting', 'stupid', 'worthless', 'garbage'],\n",
    "            ['mr', 'licks', 'ate', 'my', 'steak', 'how', 'to', 'stop', 'him'],\n",
    "            ['quit', 'buying', 'worthless', 'dog', 'food', 'stupid']] #切分好的词条\n",
    "    classVec = [0,1,0,1,0,1]   #类别标签向量，1代表侮辱性词汇，0代表非侮辱性词汇\n",
    "    return dataSet,classVec"
   ]
  },
  {
   "cell_type": "code",
   "execution_count": 3,
   "metadata": {},
   "outputs": [],
   "source": [
    "dataSet,classVec = loadDataSet()"
   ]
  },
  {
   "cell_type": "code",
   "execution_count": 4,
   "metadata": {},
   "outputs": [],
   "source": [
    "## 2、构建词汇表"
   ]
  },
  {
   "cell_type": "code",
   "execution_count": 5,
   "metadata": {},
   "outputs": [],
   "source": [
    "\"\"\"\n",
    "函数功能：将切分的样本词条整理成词汇表（不重复）\n",
    "参数说明：\n",
    "dataSet：切分好的样本词条\n",
    "返回：\n",
    "vocabList：不重复的词汇表\n",
    "\"\"\"\n",
    "def createVocablist(dataSet):\n",
    "    vocabSet = set()               #创建一个空的集合，set可用于去重\n",
    "    for doc in dataSet:\n",
    "        vocabSet = vocabSet | set(doc)     #取并集\n",
    "        vocablist = list(vocabSet)\n",
    "    return vocablist   "
   ]
  },
  {
   "cell_type": "code",
   "execution_count": 6,
   "metadata": {},
   "outputs": [
    {
     "data": {
      "text/plain": [
       "['not',\n",
       " 'has',\n",
       " 'licks',\n",
       " 'posting',\n",
       " 'steak',\n",
       " 'stupid',\n",
       " 'my',\n",
       " 'dog',\n",
       " 'worthless',\n",
       " 'how',\n",
       " 'please',\n",
       " 'to',\n",
       " 'buying',\n",
       " 'quit',\n",
       " 'him',\n",
       " 'is',\n",
       " 'so',\n",
       " 'cute',\n",
       " 'I',\n",
       " 'ate',\n",
       " 'flea',\n",
       " 'take',\n",
       " 'park',\n",
       " 'food',\n",
       " 'help',\n",
       " 'dalmation',\n",
       " 'love',\n",
       " 'stop',\n",
       " 'mr',\n",
       " 'problems',\n",
       " 'maybe',\n",
       " 'garbage']"
      ]
     },
     "execution_count": 6,
     "metadata": {},
     "output_type": "execute_result"
    }
   ],
   "source": [
    "vocablist  = createVocablist(dataSet)\n",
    "len(vocablist)\n",
    "vocablist"
   ]
  },
  {
   "cell_type": "code",
   "execution_count": 7,
   "metadata": {},
   "outputs": [],
   "source": [
    "##  生成词向量"
   ]
  },
  {
   "cell_type": "code",
   "execution_count": 8,
   "metadata": {},
   "outputs": [],
   "source": [
    "\"\"\"\n",
    "函数功能：根据vocabList词汇表，将inputSet向量化，向量的每个元素为1或0\n",
    "参数说明：\n",
    "vocabList：词汇表\n",
    "inputSet：切分好的词条列表中的一条  （dataSet中的一条数据）\n",
    "返回：\n",
    "returnVec：文档向量,词集模型\n",
    "\"\"\"\n",
    "def setOfWords2Vec(vocablist, inputSet):\n",
    "    returnVec = [0] * len(vocablist)                  #创建一个其中所含元素都为0的向量\n",
    "    for word in inputSet:                             #遍历每个词条\n",
    "        if word in vocablist:                         #如果词条存在于词汇表中，则变为1\n",
    "            returnVec[vocablist.index(word)] = 1\n",
    "        else:\n",
    "            print(\" {} is not in my Vocabulary!\".format(word) )\n",
    "    return returnVec                                  #返回文档向量"
   ]
  },
  {
   "cell_type": "code",
   "execution_count": 9,
   "metadata": {},
   "outputs": [],
   "source": [
    "inputSet =  dataSet[0]"
   ]
  },
  {
   "cell_type": "code",
   "execution_count": 10,
   "metadata": {},
   "outputs": [
    {
     "name": "stdout",
     "output_type": "stream",
     "text": [
      "[0, 1, 0, 0, 0, 0, 1, 1, 0, 0, 1, 0, 0, 0, 0, 0, 0, 0, 0, 0, 1, 0, 0, 0, 1, 0, 0, 0, 0, 1, 0, 0]\n"
     ]
    }
   ],
   "source": [
    "returnVec = setOfWords2Vec(vocablist, inputSet)\n",
    "print(returnVec)"
   ]
  },
  {
   "cell_type": "code",
   "execution_count": 11,
   "metadata": {},
   "outputs": [],
   "source": [
    "### 生成训练集向量列表"
   ]
  },
  {
   "cell_type": "code",
   "execution_count": 12,
   "metadata": {},
   "outputs": [],
   "source": [
    "\"\"\"\n",
    "函数功能：生成训练集向量列表\n",
    "参数说明：\n",
    "dataSet：切分好的样本词条\n",
    "返回：\n",
    "trainMat：所有的词条向量组成的列表\n",
    "\"\"\"\n",
    "def get_trainMat(dataSet):\n",
    "    trainMat = []                                         #初始化向量列表\n",
    "    vocablist = createVocablist(dataSet)                  #生成词汇表\n",
    "    for inputSet in dataSet:                              #遍历样本词条中的每一条样本\n",
    "        returnVec=setOfWords2Vec(vocablist, inputSet)     #将当前词条向量化\n",
    "        trainMat.append(returnVec)                        #追加到向量列表中\n",
    "    return trainMat"
   ]
  },
  {
   "cell_type": "code",
   "execution_count": 13,
   "metadata": {},
   "outputs": [
    {
     "name": "stdout",
     "output_type": "stream",
     "text": [
      "[[0, 1, 0, 0, 0, 0, 1, 1, 0, 0, 1, 0, 0, 0, 0, 0, 0, 0, 0, 0, 1, 0, 0, 0, 1, 0, 0, 0, 0, 1, 0, 0], [1, 0, 0, 0, 0, 1, 0, 1, 0, 0, 0, 1, 0, 0, 1, 0, 0, 0, 0, 0, 0, 1, 1, 0, 0, 0, 0, 0, 0, 0, 1, 0], [0, 0, 0, 0, 0, 0, 1, 0, 0, 0, 0, 0, 0, 0, 1, 1, 1, 1, 1, 0, 0, 0, 0, 0, 0, 1, 1, 0, 0, 0, 0, 0], [0, 0, 0, 1, 0, 1, 0, 0, 1, 0, 0, 0, 0, 0, 0, 0, 0, 0, 0, 0, 0, 0, 0, 0, 0, 0, 0, 1, 0, 0, 0, 1], [0, 0, 1, 0, 1, 0, 1, 0, 0, 1, 0, 1, 0, 0, 1, 0, 0, 0, 0, 1, 0, 0, 0, 0, 0, 0, 0, 1, 1, 0, 0, 0], [0, 0, 0, 0, 0, 1, 0, 1, 1, 0, 0, 0, 1, 1, 0, 0, 0, 0, 0, 0, 0, 0, 0, 1, 0, 0, 0, 0, 0, 0, 0, 0]]\n"
     ]
    }
   ],
   "source": [
    "trainMat = get_trainMat(dataSet)\n",
    "print(trainMat)"
   ]
  },
  {
   "cell_type": "code",
   "execution_count": 14,
   "metadata": {},
   "outputs": [
    {
     "name": "stdout",
     "output_type": "stream",
     "text": [
      "[0, 1, 0, 0, 0, 0, 1, 1, 0, 0, 1, 0, 0, 0, 0, 0, 0, 0, 0, 0, 1, 0, 0, 0, 1, 0, 0, 0, 0, 1, 0, 0]\n",
      "[1, 0, 0, 0, 0, 1, 0, 1, 0, 0, 0, 1, 0, 0, 1, 0, 0, 0, 0, 0, 0, 1, 1, 0, 0, 0, 0, 0, 0, 0, 1, 0]\n",
      "[0, 0, 0, 0, 0, 0, 1, 0, 0, 0, 0, 0, 0, 0, 1, 1, 1, 1, 1, 0, 0, 0, 0, 0, 0, 1, 1, 0, 0, 0, 0, 0]\n",
      "[0, 0, 0, 1, 0, 1, 0, 0, 1, 0, 0, 0, 0, 0, 0, 0, 0, 0, 0, 0, 0, 0, 0, 0, 0, 0, 0, 1, 0, 0, 0, 1]\n",
      "[0, 0, 1, 0, 1, 0, 1, 0, 0, 1, 0, 1, 0, 0, 1, 0, 0, 0, 0, 1, 0, 0, 0, 0, 0, 0, 0, 1, 1, 0, 0, 0]\n",
      "[0, 0, 0, 0, 0, 1, 0, 1, 1, 0, 0, 0, 1, 1, 0, 0, 0, 0, 0, 0, 0, 0, 0, 1, 0, 0, 0, 0, 0, 0, 0, 0]\n"
     ]
    }
   ],
   "source": [
    "for i in range(len(trainMat)):\n",
    "    print(trainMat[i])"
   ]
  },
  {
   "cell_type": "code",
   "execution_count": 15,
   "metadata": {},
   "outputs": [],
   "source": [
    "\"\"\"\n",
    "函数功能：朴素贝叶斯分类器训练函数\n",
    "参数说明：\n",
    "trainMat：训练文档矩阵\n",
    "classVec：训练类别标签向量  classVec = [0,1,0,1,0,1]\n",
    "返回：\n",
    "p0V：非侮辱类的条件概率数组\n",
    "p1V：侮辱类的条件概率数组\n",
    "pAb：文档属于侮辱类的概率\n",
    "\"\"\"\n",
    "def trainNB(trainMat,classVec):\n",
    "    n = len(trainMat)                     #计算训练的文档数目 6\n",
    "    m = len(trainMat[0])                  #计算每篇文档的词条数 32\n",
    "    pAb = sum(classVec)/n                 #文档属于侮辱类的概率\n",
    "    p0Num = np.zeros(m)                   #词条出现数初始化为0\n",
    "    p1Num = np.zeros(m)                   #词条出现数初始化为0\n",
    "    p0Denom = 0                           #分母初始化为0\n",
    "    p1Denom = 0                           #分母初始化为0\n",
    "    for i in range(n):                    #遍历每一个文档\n",
    "        if classVec[i] == 1:              #统计属于侮辱类的条件概率所需的数据\n",
    "            p1Num += trainMat[i]\n",
    "            p1Denom += sum(trainMat[i])\n",
    "        else:                             #统计属于非侮辱类的条件概率所需的数据\n",
    "            p0Num += trainMat[i]\n",
    "            p0Denom += sum(trainMat[i])\n",
    "    p1V = p1Num/p1Denom                                      \n",
    "    p0V = p0Num/p0Denom        \n",
    "    return p0V,p1V,pAb      #返回属于非侮辱类,侮辱类和文档属于侮辱类的概率"
   ]
  },
  {
   "cell_type": "code",
   "execution_count": 16,
   "metadata": {},
   "outputs": [],
   "source": [
    "p0V,p1V,pAb = trainNB(trainMat,classVec)"
   ]
  },
  {
   "cell_type": "code",
   "execution_count": 17,
   "metadata": {},
   "outputs": [],
   "source": [
    "from functools import reduce\n",
    "\"\"\"\n",
    "函数功能：朴素贝叶斯分类器分类函数\n",
    "参数说明：\n",
    "vec2Classify：待分类的词条数组,已经向量化的测试样本\n",
    "p0V：非侮辱类的条件概率数组\n",
    "p1V：侮辱类的条件概率数组\n",
    "pAb：文档属于侮辱类的概率\n",
    "返回：\n",
    "0：属于非侮辱类\n",
    "1：属于侮辱类\n",
    "\"\"\"\n",
    "def classifyNB(vec2Classify, p0V, p1V, pAb):\n",
    "    p1 = reduce(lambda x,y:x*y, vec2Classify * p1V) * pAb         #对应元素相乘\n",
    "    p0 = reduce(lambda x,y:x*y, vec2Classify * p0V) * (1 - pAb)\n",
    "    print('p0:',p0)\n",
    "    print('p1:',p1)\n",
    "    if p1 > p0:\n",
    "        return 1\n",
    "    else:\n",
    "        return 0"
   ]
  },
  {
   "cell_type": "code",
   "execution_count": 18,
   "metadata": {},
   "outputs": [],
   "source": [
    "\"\"\"\n",
    "函数功能：朴素贝叶斯测试函数\n",
    "参数说明：\n",
    "testVec：测试样本\n",
    "返回：测试样本的类别\n",
    "\"\"\"\n",
    "def testingNB(testVec):\n",
    "    dataSet,classVec = loadDataSet()                       #创建实验样本\n",
    "    vocabList = createVocablist(dataSet)                   #创建词汇表\n",
    "    trainMat= get_trainMat(dataSet)                        #将实验样本向量化\n",
    "    p0V,p1V,pAb = trainNB(trainMat,classVec)               #训练朴素贝叶斯分类器\n",
    "    thisone = setOfWords2Vec(vocablist, testVec)           #测试样本向量化\n",
    "    if classifyNB(thisone,p0V,p1V,pAb):\n",
    "        print(testVec,'属于侮辱类')                          #执行分类并打印分类结果\n",
    "    else:\n",
    "        print(testVec,'属于非侮辱类')                        #执行分类并打印分类结果"
   ]
  },
  {
   "cell_type": "code",
   "execution_count": 19,
   "metadata": {},
   "outputs": [
    {
     "name": "stdout",
     "output_type": "stream",
     "text": [
      "p0: 0.0\n",
      "p1: 0.0\n",
      "['love', 'my', 'dalmation'] 属于非侮辱类\n"
     ]
    }
   ],
   "source": [
    "#测试样本1\n",
    "testVec1 = ['love', 'my', 'dalmation']\n",
    "testingNB(testVec1)"
   ]
  },
  {
   "cell_type": "code",
   "execution_count": 20,
   "metadata": {},
   "outputs": [
    {
     "name": "stdout",
     "output_type": "stream",
     "text": [
      "p0: 0.0\n",
      "p1: 0.0\n",
      "['stupid', 'garbage'] 属于非侮辱类\n"
     ]
    }
   ],
   "source": [
    "#测试样本2\n",
    "testVec2 = ['stupid', 'garbage']\n",
    "testingNB(testVec2)"
   ]
  },
  {
   "cell_type": "code",
   "execution_count": 21,
   "metadata": {},
   "outputs": [],
   "source": [
    "#  函数算法改进：朴素贝叶斯改进之拉普拉斯平滑"
   ]
  },
  {
   "cell_type": "code",
   "execution_count": 22,
   "metadata": {},
   "outputs": [],
   "source": [
    "def trainNB(trainMat,classVec):\n",
    "    n = len(trainMat)                     #计算训练的文档数目\n",
    "    m = len(trainMat[0])                  #计算每篇文档的词条数\n",
    "    pAb = sum(classVec)/n                 #文档属于侮辱类的概率\n",
    "    p0Num = np.ones(m)                    #词条出现数初始化为1\n",
    "    p1Num = np.ones(m)                    #词条出现数初始化为1\n",
    "    p0Denom = 2                           #分母初始化为2\n",
    "    p1Denom = 2                           #分母初始化为2\n",
    "    for i in range(n):                    #遍历每一个文档\n",
    "        if classVec[i] == 1:              #统计属于侮辱类的条件概率所需的数据\n",
    "            p1Num += trainMat[i]\n",
    "            p1Denom += sum(trainMat[i])\n",
    "        else:                             #统计属于非侮辱类的条件概率所需的数据\n",
    "            p0Num += trainMat[i]\n",
    "            p0Denom += sum(trainMat[i])\n",
    "    p1V = np.log(p1Num/p1Denom)                                      \n",
    "    p0V = np.log(p0Num/p0Denom)        \n",
    "    return p0V,p1V,pAb                    #返回属于非侮辱类,侮辱类和文档属于侮辱类的概率"
   ]
  },
  {
   "cell_type": "code",
   "execution_count": 23,
   "metadata": {},
   "outputs": [],
   "source": [
    "p0V,p1V,pAb = trainNB(trainMat,classVec)"
   ]
  },
  {
   "cell_type": "code",
   "execution_count": 24,
   "metadata": {},
   "outputs": [],
   "source": [
    "def classifyNB(vec2Classify, p0V, p1V, pAb):\n",
    "    p1 = sum(vec2Classify * p1V) + np.log(pAb)       #对应元素相乘\n",
    "    p0 = sum(vec2Classify * p0V) + np.log(1- pAb)    #对应元素相乘\n",
    "    if p1 > p0:\n",
    "        return 1\n",
    "    else:\n",
    "        return 0  "
   ]
  },
  {
   "cell_type": "code",
   "execution_count": 25,
   "metadata": {},
   "outputs": [
    {
     "name": "stdout",
     "output_type": "stream",
     "text": [
      "['love', 'my', 'dalmation'] 属于非侮辱类\n"
     ]
    }
   ],
   "source": [
    "#测试样本1\n",
    "testVec1 = ['love', 'my', 'dalmation']\n",
    "testingNB(testVec1)"
   ]
  },
  {
   "cell_type": "code",
   "execution_count": 26,
   "metadata": {},
   "outputs": [
    {
     "name": "stdout",
     "output_type": "stream",
     "text": [
      "['stupid', 'garbage'] 属于侮辱类\n"
     ]
    }
   ],
   "source": [
    "#测试样本2\n",
    "testVec2 = ['stupid', 'garbage']\n",
    "testingNB(testVec2)"
   ]
  },
  {
   "cell_type": "code",
   "execution_count": null,
   "metadata": {
    "collapsed": true
   },
   "outputs": [],
   "source": []
  }
 ],
 "metadata": {
  "anaconda-cloud": {},
  "kernelspec": {
   "display_name": "Python 3",
   "language": "python",
   "name": "python3"
  },
  "language_info": {
   "codemirror_mode": {
    "name": "ipython",
    "version": 3
   },
   "file_extension": ".py",
   "mimetype": "text/x-python",
   "name": "python",
   "nbconvert_exporter": "python",
   "pygments_lexer": "ipython3",
   "version": "3.7.0"
  },
  "toc": {
   "base_numbering": 1,
   "nav_menu": {},
   "number_sections": true,
   "sideBar": true,
   "skip_h1_title": false,
   "title_cell": "Table of Contents",
   "title_sidebar": "Contents",
   "toc_cell": false,
   "toc_position": {},
   "toc_section_display": true,
   "toc_window_display": false
  }
 },
 "nbformat": 4,
 "nbformat_minor": 2
}
