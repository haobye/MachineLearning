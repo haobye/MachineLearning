{
 "cells": [
  {
   "cell_type": "code",
   "execution_count": 10,
   "metadata": {
    "collapsed": true
   },
   "outputs": [],
   "source": [
    "#创建数据集\n",
    "import numpy as np\n",
    "import pandas as pd\n",
    "\n",
    "def createDataSet():\n",
    "    row_data = collections.OrderedDict()\n",
    "    row_data = {'no surfacing':[1,1,1,0,0],\n",
    "               'flippers':[1,1,0,1,1],\n",
    "               'fish':['yes','yes','no','no','no']}\n",
    "    dataSet = pd.DataFrame(row_data)\n",
    "    return dataSet"
   ]
  },
  {
   "cell_type": "code",
   "execution_count": 11,
   "metadata": {
    "collapsed": false
   },
   "outputs": [
    {
     "data": {
      "text/html": [
       "<div>\n",
       "<table border=\"1\" class=\"dataframe\">\n",
       "  <thead>\n",
       "    <tr style=\"text-align: right;\">\n",
       "      <th></th>\n",
       "      <th>fish</th>\n",
       "      <th>flippers</th>\n",
       "      <th>no surfacing</th>\n",
       "    </tr>\n",
       "  </thead>\n",
       "  <tbody>\n",
       "    <tr>\n",
       "      <th>0</th>\n",
       "      <td>yes</td>\n",
       "      <td>1</td>\n",
       "      <td>1</td>\n",
       "    </tr>\n",
       "    <tr>\n",
       "      <th>1</th>\n",
       "      <td>yes</td>\n",
       "      <td>1</td>\n",
       "      <td>1</td>\n",
       "    </tr>\n",
       "    <tr>\n",
       "      <th>2</th>\n",
       "      <td>no</td>\n",
       "      <td>0</td>\n",
       "      <td>1</td>\n",
       "    </tr>\n",
       "    <tr>\n",
       "      <th>3</th>\n",
       "      <td>no</td>\n",
       "      <td>1</td>\n",
       "      <td>0</td>\n",
       "    </tr>\n",
       "    <tr>\n",
       "      <th>4</th>\n",
       "      <td>no</td>\n",
       "      <td>1</td>\n",
       "      <td>0</td>\n",
       "    </tr>\n",
       "  </tbody>\n",
       "</table>\n",
       "</div>"
      ],
      "text/plain": [
       "  fish  flippers  no surfacing\n",
       "0  yes         1             1\n",
       "1  yes         1             1\n",
       "2   no         0             1\n",
       "3   no         1             0\n",
       "4   no         1             0"
      ]
     },
     "execution_count": 11,
     "metadata": {},
     "output_type": "execute_result"
    }
   ],
   "source": [
    "dataSet=createDataSet()\n",
    "dataSet"
   ]
  },
  {
   "cell_type": "markdown",
   "metadata": {},
   "source": [
    "###  创建数据集"
   ]
  },
  {
   "cell_type": "code",
   "execution_count": 26,
   "metadata": {
    "collapsed": true
   },
   "outputs": [],
   "source": [
    "#创建数据集\n",
    "import numpy as np\n",
    "import pandas as pd\n",
    "import collections\n",
    "def createDataSet():\n",
    "    row_data = collections.OrderedDict()\n",
    "    row_data['no surfacing'] = [1,1,1,0,0]\n",
    "    row_data['flippers'] = [1,1,0,1,1]\n",
    "    row_data['fish'] = ['yes','yes','no','no','no']       \n",
    "    dataSet = pd.DataFrame(row_data)\n",
    "    return dataSet"
   ]
  },
  {
   "cell_type": "code",
   "execution_count": 28,
   "metadata": {
    "collapsed": false
   },
   "outputs": [
    {
     "data": {
      "text/html": [
       "<div>\n",
       "<table border=\"1\" class=\"dataframe\">\n",
       "  <thead>\n",
       "    <tr style=\"text-align: right;\">\n",
       "      <th></th>\n",
       "      <th>no surfacing</th>\n",
       "      <th>flippers</th>\n",
       "      <th>fish</th>\n",
       "    </tr>\n",
       "  </thead>\n",
       "  <tbody>\n",
       "    <tr>\n",
       "      <th>0</th>\n",
       "      <td>1</td>\n",
       "      <td>1</td>\n",
       "      <td>yes</td>\n",
       "    </tr>\n",
       "    <tr>\n",
       "      <th>1</th>\n",
       "      <td>1</td>\n",
       "      <td>1</td>\n",
       "      <td>yes</td>\n",
       "    </tr>\n",
       "    <tr>\n",
       "      <th>2</th>\n",
       "      <td>1</td>\n",
       "      <td>0</td>\n",
       "      <td>no</td>\n",
       "    </tr>\n",
       "    <tr>\n",
       "      <th>3</th>\n",
       "      <td>0</td>\n",
       "      <td>1</td>\n",
       "      <td>no</td>\n",
       "    </tr>\n",
       "    <tr>\n",
       "      <th>4</th>\n",
       "      <td>0</td>\n",
       "      <td>1</td>\n",
       "      <td>no</td>\n",
       "    </tr>\n",
       "  </tbody>\n",
       "</table>\n",
       "</div>"
      ],
      "text/plain": [
       "   no surfacing  flippers fish\n",
       "0             1         1  yes\n",
       "1             1         1  yes\n",
       "2             1         0   no\n",
       "3             0         1   no\n",
       "4             0         1   no"
      ]
     },
     "execution_count": 28,
     "metadata": {},
     "output_type": "execute_result"
    }
   ],
   "source": [
    "dataSet"
   ]
  },
  {
   "cell_type": "code",
   "execution_count": 27,
   "metadata": {
    "collapsed": false
   },
   "outputs": [
    {
     "data": {
      "text/plain": [
       "no     3\n",
       "yes    2\n",
       "Name: fish, dtype: int64"
      ]
     },
     "execution_count": 27,
     "metadata": {},
     "output_type": "execute_result"
    }
   ],
   "source": [
    "dataSet=createDataSet()\n",
    "dataSet.iloc[:,-1].value_counts()"
   ]
  },
  {
   "cell_type": "markdown",
   "metadata": {},
   "source": [
    "### 计算香农熵"
   ]
  },
  {
   "cell_type": "code",
   "execution_count": 29,
   "metadata": {
    "collapsed": true
   },
   "outputs": [],
   "source": [
    "\"\"\"\n",
    "函数功能：计算香农熵\n",
    "参数说明：\n",
    "   dataSet：原始数据集\n",
    "返回：\n",
    "ent:香农熵的值\n",
    "\"\"\"\n",
    "def calEnt(dataSet):\n",
    "    n = dataSet.shape[0]                             #数据集总行数\n",
    "    iset = dataSet.iloc[:,-1].value_counts()         #标签的所有类别()\n",
    "    p = iset/n                                       #每一类标签所占比\n",
    "    ent = (-p*np.log2(p)).sum()                      #计算信息熵\n",
    "    return ent"
   ]
  },
  {
   "cell_type": "code",
   "execution_count": 31,
   "metadata": {
    "collapsed": false
   },
   "outputs": [
    {
     "data": {
      "text/plain": [
       "no     3\n",
       "yes    2\n",
       "Name: fish, dtype: int64"
      ]
     },
     "execution_count": 31,
     "metadata": {},
     "output_type": "execute_result"
    }
   ],
   "source": [
    "dataSet.iloc[:,-1].value_counts()"
   ]
  },
  {
   "cell_type": "code",
   "execution_count": 4,
   "metadata": {
    "collapsed": false
   },
   "outputs": [
    {
     "data": {
      "text/plain": [
       "0.9709505944546686"
      ]
     },
     "execution_count": 4,
     "metadata": {},
     "output_type": "execute_result"
    }
   ],
   "source": [
    "calEnt(dataSet)"
   ]
  },
  {
   "cell_type": "code",
   "execution_count": 5,
   "metadata": {
    "collapsed": false
   },
   "outputs": [
    {
     "data": {
      "text/html": [
       "<div>\n",
       "<table border=\"1\" class=\"dataframe\">\n",
       "  <thead>\n",
       "    <tr style=\"text-align: right;\">\n",
       "      <th></th>\n",
       "      <th>no surfacing</th>\n",
       "      <th>flippers</th>\n",
       "      <th>fish</th>\n",
       "    </tr>\n",
       "  </thead>\n",
       "  <tbody>\n",
       "    <tr>\n",
       "      <th>3</th>\n",
       "      <td>0</td>\n",
       "      <td>1</td>\n",
       "      <td>no</td>\n",
       "    </tr>\n",
       "    <tr>\n",
       "      <th>4</th>\n",
       "      <td>0</td>\n",
       "      <td>1</td>\n",
       "      <td>no</td>\n",
       "    </tr>\n",
       "  </tbody>\n",
       "</table>\n",
       "</div>"
      ],
      "text/plain": [
       "   no surfacing  flippers fish\n",
       "3             0         1   no\n",
       "4             0         1   no"
      ]
     },
     "execution_count": 5,
     "metadata": {},
     "output_type": "execute_result"
    }
   ],
   "source": [
    "calEnt(dataSet)\n",
    "childSet = dataSet[dataSet.iloc[:,0]==0] \n",
    "childSet "
   ]
  },
  {
   "cell_type": "code",
   "execution_count": 6,
   "metadata": {
    "collapsed": false
   },
   "outputs": [
    {
     "data": {
      "text/plain": [
       "0.41997309402197491"
      ]
     },
     "execution_count": 6,
     "metadata": {},
     "output_type": "execute_result"
    }
   ],
   "source": [
    "a=(3/5)*(-(2/3)*np.log2(2/3)-(1/3)*np.log2(1/3))\n",
    "calEnt(dataSet)-a"
   ]
  },
  {
   "cell_type": "code",
   "execution_count": 36,
   "metadata": {
    "collapsed": false
   },
   "outputs": [
    {
     "data": {
      "text/plain": [
       "0.17095059445466854"
      ]
     },
     "execution_count": 36,
     "metadata": {},
     "output_type": "execute_result"
    }
   ],
   "source": [
    "a=-(4/5)*np.log2(1/2)\n",
    "calEnt(dataSet)-a"
   ]
  },
  {
   "cell_type": "markdown",
   "metadata": {},
   "source": [
    "###  根据信息增益选择出最佳数据集切分的列"
   ]
  },
  {
   "cell_type": "code",
   "execution_count": 43,
   "metadata": {
    "collapsed": false
   },
   "outputs": [],
   "source": [
    "\"\"\"\n",
    "函数功能：根据信息增益选择出最佳数据集切分的列\n",
    "参数说明：\n",
    "dataSet：原始数据集\n",
    "返回：\n",
    "axis:数据集最佳切分列的索引\n",
    "\"\"\"\n",
    "#选择最优的列进行切分\n",
    "def bestSplit(dataSet):\n",
    "    baseEnt = calEnt(dataSet)                                #计算原始熵\n",
    "    bestGain = 0                                             #初始化信息增益\n",
    "    axis = -1                                                #初始化最佳切分列，标签列\n",
    "    for i in range(dataSet.shape[1]-1):                      #对特征的每一列进行循环(因为最后一列是标签)\n",
    "        levels= dataSet.iloc[:,i].value_counts().index       #提取出当前列的所有取值\n",
    "        ents = 0                                             #初始化子节点的信息熵      \n",
    "        for j in levels:                                     #对当前列的每一个取值进行循环\n",
    "            childSet = dataSet[dataSet.iloc[:,i]==j]         #某一个子节点的dataframe\n",
    "            ent = calEnt(childSet)                           #计算某一个子节点的信息熵\n",
    "            ents += (childSet.shape[0]/dataSet.shape[0])*ent #计算当前列的信息熵t\n",
    "        print('第{}列的信息熵为{}'.format(i,ents))\n",
    "        infoGain = baseEnt-ents                              #计算当前列的信息增益\n",
    "        print('第{}列的信息增益为{}'.format(i,infoGain))\n",
    "        if (infoGain > bestGain):\n",
    "            bestGain = infoGain                              #选择最大信息增益\n",
    "            axis = i                                         #最大信息增益所在列的索引\n",
    "        return axis"
   ]
  },
  {
   "cell_type": "code",
   "execution_count": 44,
   "metadata": {
    "collapsed": false
   },
   "outputs": [
    {
     "name": "stdout",
     "output_type": "stream",
     "text": [
      "第0列的信息熵为0.5509775004326937\n",
      "第0列的信息增益为0.4199730940219749\n"
     ]
    },
    {
     "data": {
      "text/plain": [
       "0"
      ]
     },
     "execution_count": 44,
     "metadata": {},
     "output_type": "execute_result"
    }
   ],
   "source": [
    "bestSplit(dataSet)"
   ]
  },
  {
   "cell_type": "markdown",
   "metadata": {},
   "source": [
    "###  按照给定的列划分数据集（用于后续的低递归）"
   ]
  },
  {
   "cell_type": "code",
   "execution_count": 45,
   "metadata": {
    "collapsed": true
   },
   "outputs": [],
   "source": [
    "\"\"\"\n",
    "函数功能：按照给定的列划分数据集\n",
    "参数说明：\n",
    "dataSet：原始数据集\n",
    "axis：指定的列索引\n",
    "value：指定的属性值\n",
    "返回：\n",
    "redataSet：按照指定列索引和属性值切分后的数据集\n",
    "\"\"\"\n",
    "def mySplit(dataSet,axis,value):\n",
    "    col = dataSet.columns[axis]\n",
    "    redataSet = dataSet.loc[dataSet[col]==value,:].drop(col,axis=1)\n",
    "    return redataSet"
   ]
  },
  {
   "cell_type": "markdown",
   "metadata": {},
   "source": [
    "### 递归构建决策树"
   ]
  },
  {
   "cell_type": "code",
   "execution_count": 10,
   "metadata": {
    "collapsed": true
   },
   "outputs": [],
   "source": [
    "\"\"\"\n",
    "函数功能：基于最大信息增益切分数据集，递归构建决策树\n",
    "参数说明：\n",
    "dataSet：原始数据集（最后一列是标签）\n",
    "返回：\n",
    "myTree：字典形式的树\n",
    "\"\"\"\n",
    "def createTree(dataSet):\n",
    "    featlist = list(dataSet.columns)                          #提取出数据集所有的列\n",
    "    classlist = dataSet.iloc[:,-1].value_counts()             #获取最后一列类标签\n",
    "    #判断最多标签数目是否等于数据集行数，或者数据集是否只有一列\n",
    "    if classlist[0]==dataSet.shape[0] or dataSet.shape[1] == 1:\n",
    "        return classlist.index[0]                             #如果是，返回类标签\n",
    "    axis = bestSplit(dataSet)                                 #确定出当前最佳切分列的索引\n",
    "    bestfeat = featlist[axis]                                 #获取该索引对应的特征\n",
    "    myTree = {bestfeat:{}}                                    #采用字典嵌套的方式存储树信息\n",
    "    del featlist[axis]                                        #删除当前特征\n",
    "    valuelist = set(dataSet.iloc[:,axis])                     #提取最佳切分列所有属性值\n",
    "    for value in valuelist:                                   #对每一个属性值递归建树\n",
    "        myTree[bestfeat][value] = createTree(mySplit(dataSet,axis,value))  #递归createTree里面放的是切分完成之后的数据\n",
    "    return myTree"
   ]
  },
  {
   "cell_type": "code",
   "execution_count": 11,
   "metadata": {
    "collapsed": false
   },
   "outputs": [
    {
     "name": "stdout",
     "output_type": "stream",
     "text": [
      "第0列的信息熵为0.5509775004326937\n",
      "第0列的信息增益为0.4199730940219749\n",
      "第0列的信息熵为0.0\n",
      "第0列的信息增益为0.9182958340544896\n"
     ]
    },
    {
     "data": {
      "text/plain": [
       "{'no surfacing': {0: 'no', 1: {'flippers': {0: 'no', 1: 'yes'}}}}"
      ]
     },
     "execution_count": 11,
     "metadata": {},
     "output_type": "execute_result"
    }
   ],
   "source": [
    "myTree = createTree(dataSet)\n",
    "myTree"
   ]
  },
  {
   "cell_type": "markdown",
   "metadata": {},
   "source": [
    "###  树的存储和读取"
   ]
  },
  {
   "cell_type": "code",
   "execution_count": 12,
   "metadata": {
    "collapsed": false
   },
   "outputs": [
    {
     "data": {
      "text/plain": [
       "{'no surfacing': {0: 'no', 1: {'flippers': {0: 'no', 1: 'yes'}}}}"
      ]
     },
     "execution_count": 12,
     "metadata": {},
     "output_type": "execute_result"
    }
   ],
   "source": [
    "#树的存储\n",
    "np.save('myTree.npy',myTree)\n",
    "#树的读取\n",
    "read_myTree = np.load('myTree.npy').item()\n",
    "read_myTree"
   ]
  },
  {
   "cell_type": "markdown",
   "metadata": {},
   "source": [
    "### 使用决策树进行分类"
   ]
  },
  {
   "cell_type": "code",
   "execution_count": 52,
   "metadata": {
    "collapsed": false
   },
   "outputs": [],
   "source": [
    "\"\"\"\n",
    "函数功能：对一个测试实例进行分类\n",
    "参数说明：\n",
    "inputTree：已经生成的决策树\n",
    "labels：存储选择的最优特征标签\n",
    "testVec：测试数据列表，顺序对应原数据集(对应的特征，最后一列标签列不取)\n",
    "返回：\n",
    "classLabel：分类结果\n",
    "\"\"\"\n",
    "def classify(inputTree,labels, testVec):\n",
    "    firstStr = next(iter(inputTree))                   #获取决策树第一个节点\n",
    "    secondDict = inputTree[firstStr]                   #下一个字典\n",
    "    featIndex = labels.index(firstStr)                 #第一个节点所在列的索引\n",
    "    for key in secondDict.keys():\n",
    "        if testVec[featIndex] == key:\n",
    "            if type(secondDict[key]) == dict :\n",
    "                classLabel = classify(secondDict[key], labels, testVec)\n",
    "            else:\n",
    "                classLabel = secondDict[key]\n",
    "    return classLabel"
   ]
  },
  {
   "cell_type": "code",
   "execution_count": 61,
   "metadata": {
    "collapsed": false
   },
   "outputs": [
    {
     "data": {
      "text/plain": [
       "['no surfacing', 'flippers', 'fish']"
      ]
     },
     "execution_count": 61,
     "metadata": {},
     "output_type": "execute_result"
    }
   ],
   "source": [
    "labels = list(dataSet.columns)\n",
    "labels"
   ]
  },
  {
   "cell_type": "code",
   "execution_count": 64,
   "metadata": {
    "collapsed": false
   },
   "outputs": [
    {
     "data": {
      "text/plain": [
       "'yes'"
      ]
     },
     "execution_count": 64,
     "metadata": {},
     "output_type": "execute_result"
    }
   ],
   "source": [
    "inputTree = myTree\n",
    "firstStr = next(iter(inputTree))                 \n",
    "secondDict = inputTree[firstStr]\n",
    "testVec = dataSet.iloc[0,:-1] \n",
    "labels = list(dataSet.columns)\n",
    "classify(inputTree,labels, testVec)"
   ]
  },
  {
   "cell_type": "code",
   "execution_count": 66,
   "metadata": {
    "collapsed": false
   },
   "outputs": [],
   "source": [
    "\"\"\"\n",
    "函数功能：对测试集进行预测，并返回预测后的结果\n",
    "参数说明：\n",
    "train：训练集\n",
    "test：测试集\n",
    "返回：\n",
    "test：预测好分类的测试集\n",
    "\"\"\"\n",
    "def acc_classify(train,test):\n",
    "    inputTree = createTree(train)                       #根据测试集生成一棵树\n",
    "    labels = list(train.columns)                        #数据集所有的列名称\n",
    "    result = []\n",
    "    for i in range(test.shape[0]):                      #对测试集中每一条数据进行循环\n",
    "        testVec = test.iloc[i,:-1]                      #测试集中的一个实例\n",
    "        classLabel = classify(inputTree,labels,testVec) #预测该实例的分类\n",
    "        result.append(classLabel)                       #将分类结果追加到result列表中\n",
    "    test['predict']=result                              #将预测结果追加到测试集最后一列\n",
    "    acc = (test.iloc[:,-1]==test.iloc[:,-2]).mean()     #计算准确率\n",
    "    print('模型预测准确率为%f'%acc)\n",
    "    #return test"
   ]
  },
  {
   "cell_type": "code",
   "execution_count": 67,
   "metadata": {
    "collapsed": false
   },
   "outputs": [
    {
     "name": "stdout",
     "output_type": "stream",
     "text": [
      "第0列的信息熵为0.5509775004326937\n",
      "第0列的信息增益为0.4199730940219749\n",
      "第0列的信息熵为0.0\n",
      "第0列的信息增益为0.9182958340544896\n",
      "模型预测准确率为1.000000\n"
     ]
    },
    {
     "name": "stderr",
     "output_type": "stream",
     "text": [
      "C:\\Program Files\\Anaconda3\\lib\\site-packages\\ipykernel\\__main__.py:17: SettingWithCopyWarning: \n",
      "A value is trying to be set on a copy of a slice from a DataFrame.\n",
      "Try using .loc[row_indexer,col_indexer] = value instead\n",
      "\n",
      "See the caveats in the documentation: http://pandas.pydata.org/pandas-docs/stable/indexing.html#indexing-view-versus-copy\n"
     ]
    },
    {
     "data": {
      "text/html": [
       "<div>\n",
       "<table border=\"1\" class=\"dataframe\">\n",
       "  <thead>\n",
       "    <tr style=\"text-align: right;\">\n",
       "      <th></th>\n",
       "      <th>no surfacing</th>\n",
       "      <th>flippers</th>\n",
       "      <th>fish</th>\n",
       "      <th>predict</th>\n",
       "    </tr>\n",
       "  </thead>\n",
       "  <tbody>\n",
       "    <tr>\n",
       "      <th>0</th>\n",
       "      <td>1</td>\n",
       "      <td>1</td>\n",
       "      <td>yes</td>\n",
       "      <td>yes</td>\n",
       "    </tr>\n",
       "    <tr>\n",
       "      <th>1</th>\n",
       "      <td>1</td>\n",
       "      <td>1</td>\n",
       "      <td>yes</td>\n",
       "      <td>yes</td>\n",
       "    </tr>\n",
       "    <tr>\n",
       "      <th>2</th>\n",
       "      <td>1</td>\n",
       "      <td>0</td>\n",
       "      <td>no</td>\n",
       "      <td>no</td>\n",
       "    </tr>\n",
       "  </tbody>\n",
       "</table>\n",
       "</div>"
      ],
      "text/plain": [
       "   no surfacing  flippers fish predict\n",
       "0             1         1  yes     yes\n",
       "1             1         1  yes     yes\n",
       "2             1         0   no      no"
      ]
     },
     "execution_count": 67,
     "metadata": {},
     "output_type": "execute_result"
    }
   ],
   "source": [
    "train = dataSet\n",
    "test = dataSet.iloc[:3,:]\n",
    "acc_classify(train,test)"
   ]
  },
  {
   "cell_type": "markdown",
   "metadata": {},
   "source": [
    "###  决策树可视化"
   ]
  },
  {
   "cell_type": "code",
   "execution_count": 108,
   "metadata": {
    "collapsed": true
   },
   "outputs": [],
   "source": [
    "####1、计算叶子节点的数目"
   ]
  },
  {
   "cell_type": "code",
   "execution_count": 109,
   "metadata": {
    "collapsed": true
   },
   "outputs": [],
   "source": [
    "\"\"\"\n",
    "函数功能：递归计算叶子节点的数目\n",
    "参数说明：\n",
    "    myTree：字典形式的树\n",
    "返回：\n",
    "    numleafs：叶节点数目\n",
    "\"\"\"\n",
    "def getNumLeafs(myTree):\n",
    "    numleafs = 0\n",
    "    firstStr = next(iter(myTree))             #获得数的第一个键值\n",
    "    secondDict = myTree[firstStr]             #获取下一组字典\n",
    "    for key in secondDict.keys():\n",
    "        if type(secondDict[key]) == dict:    #测试该节点是否为字典\n",
    "            numleafs += getNumLeafs(secondDict[key])     #是字典，递归，循环计算新分支叶节点数\n",
    "        else:\n",
    "            numleafs += 1                                #不是字典，代表此节点即为叶子节点，0加1即可\n",
    "    return  numleafs"
   ]
  },
  {
   "cell_type": "code",
   "execution_count": 110,
   "metadata": {
    "collapsed": false
   },
   "outputs": [
    {
     "data": {
      "text/plain": [
       "3"
      ]
     },
     "execution_count": 110,
     "metadata": {},
     "output_type": "execute_result"
    }
   ],
   "source": [
    "numleafs = getNumLeafs(myTree)\n",
    "numleafs"
   ]
  },
  {
   "cell_type": "code",
   "execution_count": null,
   "metadata": {
    "collapsed": true
   },
   "outputs": [],
   "source": [
    "####2、计算树的深度"
   ]
  },
  {
   "cell_type": "code",
   "execution_count": 111,
   "metadata": {
    "collapsed": true
   },
   "outputs": [],
   "source": [
    "\"\"\"\n",
    "函数功能：递归计算叶的深度\n",
    "参数说明：\n",
    "    myTree：字典形式的树\n",
    "返回：\n",
    "    maxdepth：叶的最大深度\n",
    "\"\"\"\n",
    "def getTreeDepth(myTree):\n",
    "    maxdepth = 0\n",
    "    firstStr = next(iter(myTree))\n",
    "    secondDict = myTree[firstStr]\n",
    "    for key in secondDict.keys():\n",
    "        if type(secondDict[key]) == dict :    #测试该节点是否为字典\n",
    "            thisdepth = 1 + getTreeDepth(secondDict[key])\n",
    "        else:\n",
    "            thisdepth = 1\n",
    "        if thisdepth > maxdepth:\n",
    "            maxdepth = thisdepth\n",
    "    return maxdepth "
   ]
  },
  {
   "cell_type": "code",
   "execution_count": 112,
   "metadata": {
    "collapsed": true
   },
   "outputs": [],
   "source": [
    "####3、绘制节点"
   ]
  },
  {
   "cell_type": "code",
   "execution_count": 133,
   "metadata": {
    "collapsed": true
   },
   "outputs": [],
   "source": [
    "%matplotlib notebook\n",
    "import matplotlib.pyplot as plt\n",
    "plt.rcParams['font.sans-serif']=['SimHei']"
   ]
  },
  {
   "cell_type": "code",
   "execution_count": 134,
   "metadata": {
    "collapsed": true
   },
   "outputs": [],
   "source": [
    "\"\"\"\n",
    "函数功能：绘制节点\n",
    "参数说明：\n",
    "    nodeTxt： 节点名\n",
    "    cntrPt：文本位置\n",
    "    parentPt: 标注的箭头位置\n",
    "    nodeType: 节点格式\n",
    "\"\"\"\n",
    "def plotNode(nodeTxt, centerPt, parentPt, nodeType):\n",
    "    arrow_args = dict(arrowstyle=\"<-\")\t\t\t\t\t\t\t\t\t\t\t#定义箭头格式\n",
    "    createPlot.ax1.annotate(nodeTxt, xy=parentPt,  xycoords='axes fraction',\t#绘制结点\n",
    "                            xytext=centerPt, textcoords='axes fraction',\n",
    "                            va=\"center\", ha=\"center\", bbox=nodeType, arrowprops=arrow_args)"
   ]
  },
  {
   "cell_type": "code",
   "execution_count": 135,
   "metadata": {
    "collapsed": true
   },
   "outputs": [],
   "source": [
    "####4、标注有向边属性值"
   ]
  },
  {
   "cell_type": "code",
   "execution_count": 148,
   "metadata": {
    "collapsed": true
   },
   "outputs": [],
   "source": [
    "\"\"\"\n",
    "函数功能：标注有向边属性值\n",
    "参数说明：\n",
    "  cntrPt、parentPt：用于计算标注位置\n",
    "  txtString：标注的内容\n",
    "\"\"\"\n",
    "def plotMidText(cntrPt, parentPt, txtString):\n",
    "    xMid = (parentPt[0]-cntrPt[0])/2.0 + cntrPt[0]\t\t\t\t\t\t\t\t\t\t\t#计算标注位置\n",
    "    yMid = (parentPt[1]-cntrPt[1])/2.0 + cntrPt[1]\n",
    "    createPlot.ax1.text(xMid, yMid, txtString, va=\"center\", ha=\"center\", rotation=45)"
   ]
  },
  {
   "cell_type": "code",
   "execution_count": 149,
   "metadata": {
    "collapsed": true
   },
   "outputs": [],
   "source": [
    "####5、绘制决策树"
   ]
  },
  {
   "cell_type": "code",
   "execution_count": 150,
   "metadata": {
    "collapsed": false
   },
   "outputs": [
    {
     "data": {
      "text/plain": [
       "'\\n1、绘制自身\\n2、判断子节点非叶子节点，递归\\n3、判断子节点为叶子节点，递归\\n'"
      ]
     },
     "execution_count": 150,
     "metadata": {},
     "output_type": "execute_result"
    }
   ],
   "source": [
    "\"\"\"\n",
    "1、绘制自身\n",
    "2、判断子节点非叶子节点，递归\n",
    "3、判断子节点为叶子节点，递归\n",
    "\"\"\""
   ]
  },
  {
   "cell_type": "code",
   "execution_count": 151,
   "metadata": {
    "collapsed": true
   },
   "outputs": [],
   "source": [
    "\"\"\"\n",
    "函数说明:绘制决策树\n",
    "\n",
    "Parameters:\n",
    "    myTree - 决策树(字典)\n",
    "    parentPt - 标注的内容\n",
    "    nodeTxt - 结点名\n",
    "\"\"\"    \n",
    "def plotTree(myTree, parentPt, nodeTxt):\n",
    "    decisionNode = dict(boxstyle=\"sawtooth\", fc=\"0.8\")\t\t\t\t\t\t\t\t\t\t#设置结点格式\n",
    "    leafNode = dict(boxstyle=\"round4\", fc=\"0.8\")\t\t\t\t\t\t\t\t\t\t\t#设置叶结点格式\n",
    "    numLeafs = getNumLeafs(myTree)  \t\t\t\t\t\t\t\t\t\t\t\t\t\t#获取决策树叶结点数目，决定了树的宽度\n",
    "    depth = getTreeDepth(myTree)\t\t\t\t\t\t\t\t\t\t\t\t\t\t\t#获取决策树层数\n",
    "    firstStr = next(iter(myTree))\t\t\t\t\t\t\t\t\t\t\t\t\t\t\t#下个字典\n",
    "    cntrPt = (plotTree.xOff + (1.0 + float(numLeafs))/2.0/plotTree.totalW, plotTree.yOff)\t#中心位置\n",
    "    plotMidText(cntrPt, parentPt, nodeTxt)\t\t\t\t\t\t\t\t\t\t\t\t\t#标注有向边属性值\n",
    "    plotNode(firstStr, cntrPt, parentPt, decisionNode)\t\t\t\t\t\t\t\t\t\t#绘制结点\n",
    "    secondDict = myTree[firstStr]\t\t\t\t\t\t\t\t\t\t\t\t\t\t\t#下一个字典，也就是继续绘制子结点\n",
    "    plotTree.yOff = plotTree.yOff - 1.0/plotTree.totalD\t\t\t\t\t\t\t\t\t\t#y偏移\n",
    "    for key in secondDict.keys():\n",
    "        if type(secondDict[key]).__name__=='dict':\t\t\t\t\t\t\t\t\t\t\t#测试该结点是否为字典，如果不是字典，代表此结点为叶子结点\n",
    "            plotTree(secondDict[key],cntrPt,str(key))        \t\t\t\t\t\t\t\t#不是叶结点，递归调用继续绘制\n",
    "        else:\t\t\t\t\t\t\t\t\t\t\t\t\t\t\t\t\t\t\t\t#如果是叶结点，绘制叶结点，并标注有向边属性值\n",
    "            plotTree.xOff = plotTree.xOff + 1.0/plotTree.totalW\n",
    "            plotNode(secondDict[key], (plotTree.xOff, plotTree.yOff), cntrPt, leafNode)\n",
    "            plotMidText((plotTree.xOff, plotTree.yOff), cntrPt, str(key))\n",
    "    plotTree.yOff = plotTree.yOff + 1.0/plotTree.totalD"
   ]
  },
  {
   "cell_type": "code",
   "execution_count": 152,
   "metadata": {
    "collapsed": true
   },
   "outputs": [],
   "source": [
    "\"\"\"\n",
    "函数说明:创建绘制面板\n",
    "\n",
    "参数说明:\n",
    "\tinTree - 决策树(字典)\n",
    "\n",
    "\"\"\"\n",
    "def createPlot(inTree):\n",
    "    fig = plt.figure(1, facecolor='white')\t\t\t\t\t\t\t\t\t\t\t\t\t#创建fig\n",
    "    fig.clf()\t\t\t\t\t\t\t\t\t\t\t\t\t\t\t\t\t\t\t\t#清空fig\n",
    "    axprops = dict(xticks=[], yticks=[])\n",
    "    createPlot.ax1 = plt.subplot(111, frameon=False, **axprops)    \t\t\t\t\t\t\t#去掉x、y轴\n",
    "    plotTree.totalW = float(getNumLeafs(inTree))\t\t\t\t\t\t\t\t\t\t\t#获取决策树叶结点数目\n",
    "    plotTree.totalD = float(getTreeDepth(inTree))\t\t\t\t\t\t\t\t\t\t\t#获取决策树层数\n",
    "    plotTree.xOff = -0.5/plotTree.totalW; plotTree.yOff = 1.0;\t\t\t\t\t\t\t\t#x偏移\n",
    "    plotTree(inTree,(0.5,1.0), '')                                                       #绘制决策树\n",
    "    plt.show()\t\t\t\t\t\t\t\t\t\t\t\t\t\t\t\t\t\t\t\t#显示绘制结果\n"
   ]
  },
  {
   "cell_type": "code",
   "execution_count": 153,
   "metadata": {
    "collapsed": false
   },
   "outputs": [
    {
     "data": {
      "application/javascript": [
       "/* Put everything inside the global mpl namespace */\n",
       "window.mpl = {};\n",
       "\n",
       "mpl.get_websocket_type = function() {\n",
       "    if (typeof(WebSocket) !== 'undefined') {\n",
       "        return WebSocket;\n",
       "    } else if (typeof(MozWebSocket) !== 'undefined') {\n",
       "        return MozWebSocket;\n",
       "    } else {\n",
       "        alert('Your browser does not have WebSocket support.' +\n",
       "              'Please try Chrome, Safari or Firefox ≥ 6. ' +\n",
       "              'Firefox 4 and 5 are also supported but you ' +\n",
       "              'have to enable WebSockets in about:config.');\n",
       "    };\n",
       "}\n",
       "\n",
       "mpl.figure = function(figure_id, websocket, ondownload, parent_element) {\n",
       "    this.id = figure_id;\n",
       "\n",
       "    this.ws = websocket;\n",
       "\n",
       "    this.supports_binary = (this.ws.binaryType != undefined);\n",
       "\n",
       "    if (!this.supports_binary) {\n",
       "        var warnings = document.getElementById(\"mpl-warnings\");\n",
       "        if (warnings) {\n",
       "            warnings.style.display = 'block';\n",
       "            warnings.textContent = (\n",
       "                \"This browser does not support binary websocket messages. \" +\n",
       "                    \"Performance may be slow.\");\n",
       "        }\n",
       "    }\n",
       "\n",
       "    this.imageObj = new Image();\n",
       "\n",
       "    this.context = undefined;\n",
       "    this.message = undefined;\n",
       "    this.canvas = undefined;\n",
       "    this.rubberband_canvas = undefined;\n",
       "    this.rubberband_context = undefined;\n",
       "    this.format_dropdown = undefined;\n",
       "\n",
       "    this.image_mode = 'full';\n",
       "\n",
       "    this.root = $('<div/>');\n",
       "    this._root_extra_style(this.root)\n",
       "    this.root.attr('style', 'display: inline-block');\n",
       "\n",
       "    $(parent_element).append(this.root);\n",
       "\n",
       "    this._init_header(this);\n",
       "    this._init_canvas(this);\n",
       "    this._init_toolbar(this);\n",
       "\n",
       "    var fig = this;\n",
       "\n",
       "    this.waiting = false;\n",
       "\n",
       "    this.ws.onopen =  function () {\n",
       "            fig.send_message(\"supports_binary\", {value: fig.supports_binary});\n",
       "            fig.send_message(\"send_image_mode\", {});\n",
       "            fig.send_message(\"refresh\", {});\n",
       "        }\n",
       "\n",
       "    this.imageObj.onload = function() {\n",
       "            if (fig.image_mode == 'full') {\n",
       "                // Full images could contain transparency (where diff images\n",
       "                // almost always do), so we need to clear the canvas so that\n",
       "                // there is no ghosting.\n",
       "                fig.context.clearRect(0, 0, fig.canvas.width, fig.canvas.height);\n",
       "            }\n",
       "            fig.context.drawImage(fig.imageObj, 0, 0);\n",
       "        };\n",
       "\n",
       "    this.imageObj.onunload = function() {\n",
       "        this.ws.close();\n",
       "    }\n",
       "\n",
       "    this.ws.onmessage = this._make_on_message_function(this);\n",
       "\n",
       "    this.ondownload = ondownload;\n",
       "}\n",
       "\n",
       "mpl.figure.prototype._init_header = function() {\n",
       "    var titlebar = $(\n",
       "        '<div class=\"ui-dialog-titlebar ui-widget-header ui-corner-all ' +\n",
       "        'ui-helper-clearfix\"/>');\n",
       "    var titletext = $(\n",
       "        '<div class=\"ui-dialog-title\" style=\"width: 100%; ' +\n",
       "        'text-align: center; padding: 3px;\"/>');\n",
       "    titlebar.append(titletext)\n",
       "    this.root.append(titlebar);\n",
       "    this.header = titletext[0];\n",
       "}\n",
       "\n",
       "\n",
       "\n",
       "mpl.figure.prototype._canvas_extra_style = function(canvas_div) {\n",
       "\n",
       "}\n",
       "\n",
       "\n",
       "mpl.figure.prototype._root_extra_style = function(canvas_div) {\n",
       "\n",
       "}\n",
       "\n",
       "mpl.figure.prototype._init_canvas = function() {\n",
       "    var fig = this;\n",
       "\n",
       "    var canvas_div = $('<div/>');\n",
       "\n",
       "    canvas_div.attr('style', 'position: relative; clear: both; outline: 0');\n",
       "\n",
       "    function canvas_keyboard_event(event) {\n",
       "        return fig.key_event(event, event['data']);\n",
       "    }\n",
       "\n",
       "    canvas_div.keydown('key_press', canvas_keyboard_event);\n",
       "    canvas_div.keyup('key_release', canvas_keyboard_event);\n",
       "    this.canvas_div = canvas_div\n",
       "    this._canvas_extra_style(canvas_div)\n",
       "    this.root.append(canvas_div);\n",
       "\n",
       "    var canvas = $('<canvas/>');\n",
       "    canvas.addClass('mpl-canvas');\n",
       "    canvas.attr('style', \"left: 0; top: 0; z-index: 0; outline: 0\")\n",
       "\n",
       "    this.canvas = canvas[0];\n",
       "    this.context = canvas[0].getContext(\"2d\");\n",
       "\n",
       "    var rubberband = $('<canvas/>');\n",
       "    rubberband.attr('style', \"position: absolute; left: 0; top: 0; z-index: 1;\")\n",
       "\n",
       "    var pass_mouse_events = true;\n",
       "\n",
       "    canvas_div.resizable({\n",
       "        start: function(event, ui) {\n",
       "            pass_mouse_events = false;\n",
       "        },\n",
       "        resize: function(event, ui) {\n",
       "            fig.request_resize(ui.size.width, ui.size.height);\n",
       "        },\n",
       "        stop: function(event, ui) {\n",
       "            pass_mouse_events = true;\n",
       "            fig.request_resize(ui.size.width, ui.size.height);\n",
       "        },\n",
       "    });\n",
       "\n",
       "    function mouse_event_fn(event) {\n",
       "        if (pass_mouse_events)\n",
       "            return fig.mouse_event(event, event['data']);\n",
       "    }\n",
       "\n",
       "    rubberband.mousedown('button_press', mouse_event_fn);\n",
       "    rubberband.mouseup('button_release', mouse_event_fn);\n",
       "    // Throttle sequential mouse events to 1 every 20ms.\n",
       "    rubberband.mousemove('motion_notify', mouse_event_fn);\n",
       "\n",
       "    rubberband.mouseenter('figure_enter', mouse_event_fn);\n",
       "    rubberband.mouseleave('figure_leave', mouse_event_fn);\n",
       "\n",
       "    canvas_div.on(\"wheel\", function (event) {\n",
       "        event = event.originalEvent;\n",
       "        event['data'] = 'scroll'\n",
       "        if (event.deltaY < 0) {\n",
       "            event.step = 1;\n",
       "        } else {\n",
       "            event.step = -1;\n",
       "        }\n",
       "        mouse_event_fn(event);\n",
       "    });\n",
       "\n",
       "    canvas_div.append(canvas);\n",
       "    canvas_div.append(rubberband);\n",
       "\n",
       "    this.rubberband = rubberband;\n",
       "    this.rubberband_canvas = rubberband[0];\n",
       "    this.rubberband_context = rubberband[0].getContext(\"2d\");\n",
       "    this.rubberband_context.strokeStyle = \"#000000\";\n",
       "\n",
       "    this._resize_canvas = function(width, height) {\n",
       "        // Keep the size of the canvas, canvas container, and rubber band\n",
       "        // canvas in synch.\n",
       "        canvas_div.css('width', width)\n",
       "        canvas_div.css('height', height)\n",
       "\n",
       "        canvas.attr('width', width);\n",
       "        canvas.attr('height', height);\n",
       "\n",
       "        rubberband.attr('width', width);\n",
       "        rubberband.attr('height', height);\n",
       "    }\n",
       "\n",
       "    // Set the figure to an initial 600x600px, this will subsequently be updated\n",
       "    // upon first draw.\n",
       "    this._resize_canvas(600, 600);\n",
       "\n",
       "    // Disable right mouse context menu.\n",
       "    $(this.rubberband_canvas).bind(\"contextmenu\",function(e){\n",
       "        return false;\n",
       "    });\n",
       "\n",
       "    function set_focus () {\n",
       "        canvas.focus();\n",
       "        canvas_div.focus();\n",
       "    }\n",
       "\n",
       "    window.setTimeout(set_focus, 100);\n",
       "}\n",
       "\n",
       "mpl.figure.prototype._init_toolbar = function() {\n",
       "    var fig = this;\n",
       "\n",
       "    var nav_element = $('<div/>')\n",
       "    nav_element.attr('style', 'width: 100%');\n",
       "    this.root.append(nav_element);\n",
       "\n",
       "    // Define a callback function for later on.\n",
       "    function toolbar_event(event) {\n",
       "        return fig.toolbar_button_onclick(event['data']);\n",
       "    }\n",
       "    function toolbar_mouse_event(event) {\n",
       "        return fig.toolbar_button_onmouseover(event['data']);\n",
       "    }\n",
       "\n",
       "    for(var toolbar_ind in mpl.toolbar_items) {\n",
       "        var name = mpl.toolbar_items[toolbar_ind][0];\n",
       "        var tooltip = mpl.toolbar_items[toolbar_ind][1];\n",
       "        var image = mpl.toolbar_items[toolbar_ind][2];\n",
       "        var method_name = mpl.toolbar_items[toolbar_ind][3];\n",
       "\n",
       "        if (!name) {\n",
       "            // put a spacer in here.\n",
       "            continue;\n",
       "        }\n",
       "        var button = $('<button/>');\n",
       "        button.addClass('ui-button ui-widget ui-state-default ui-corner-all ' +\n",
       "                        'ui-button-icon-only');\n",
       "        button.attr('role', 'button');\n",
       "        button.attr('aria-disabled', 'false');\n",
       "        button.click(method_name, toolbar_event);\n",
       "        button.mouseover(tooltip, toolbar_mouse_event);\n",
       "\n",
       "        var icon_img = $('<span/>');\n",
       "        icon_img.addClass('ui-button-icon-primary ui-icon');\n",
       "        icon_img.addClass(image);\n",
       "        icon_img.addClass('ui-corner-all');\n",
       "\n",
       "        var tooltip_span = $('<span/>');\n",
       "        tooltip_span.addClass('ui-button-text');\n",
       "        tooltip_span.html(tooltip);\n",
       "\n",
       "        button.append(icon_img);\n",
       "        button.append(tooltip_span);\n",
       "\n",
       "        nav_element.append(button);\n",
       "    }\n",
       "\n",
       "    var fmt_picker_span = $('<span/>');\n",
       "\n",
       "    var fmt_picker = $('<select/>');\n",
       "    fmt_picker.addClass('mpl-toolbar-option ui-widget ui-widget-content');\n",
       "    fmt_picker_span.append(fmt_picker);\n",
       "    nav_element.append(fmt_picker_span);\n",
       "    this.format_dropdown = fmt_picker[0];\n",
       "\n",
       "    for (var ind in mpl.extensions) {\n",
       "        var fmt = mpl.extensions[ind];\n",
       "        var option = $(\n",
       "            '<option/>', {selected: fmt === mpl.default_extension}).html(fmt);\n",
       "        fmt_picker.append(option)\n",
       "    }\n",
       "\n",
       "    // Add hover states to the ui-buttons\n",
       "    $( \".ui-button\" ).hover(\n",
       "        function() { $(this).addClass(\"ui-state-hover\");},\n",
       "        function() { $(this).removeClass(\"ui-state-hover\");}\n",
       "    );\n",
       "\n",
       "    var status_bar = $('<span class=\"mpl-message\"/>');\n",
       "    nav_element.append(status_bar);\n",
       "    this.message = status_bar[0];\n",
       "}\n",
       "\n",
       "mpl.figure.prototype.request_resize = function(x_pixels, y_pixels) {\n",
       "    // Request matplotlib to resize the figure. Matplotlib will then trigger a resize in the client,\n",
       "    // which will in turn request a refresh of the image.\n",
       "    this.send_message('resize', {'width': x_pixels, 'height': y_pixels});\n",
       "}\n",
       "\n",
       "mpl.figure.prototype.send_message = function(type, properties) {\n",
       "    properties['type'] = type;\n",
       "    properties['figure_id'] = this.id;\n",
       "    this.ws.send(JSON.stringify(properties));\n",
       "}\n",
       "\n",
       "mpl.figure.prototype.send_draw_message = function() {\n",
       "    if (!this.waiting) {\n",
       "        this.waiting = true;\n",
       "        this.ws.send(JSON.stringify({type: \"draw\", figure_id: this.id}));\n",
       "    }\n",
       "}\n",
       "\n",
       "\n",
       "mpl.figure.prototype.handle_save = function(fig, msg) {\n",
       "    var format_dropdown = fig.format_dropdown;\n",
       "    var format = format_dropdown.options[format_dropdown.selectedIndex].value;\n",
       "    fig.ondownload(fig, format);\n",
       "}\n",
       "\n",
       "\n",
       "mpl.figure.prototype.handle_resize = function(fig, msg) {\n",
       "    var size = msg['size'];\n",
       "    if (size[0] != fig.canvas.width || size[1] != fig.canvas.height) {\n",
       "        fig._resize_canvas(size[0], size[1]);\n",
       "        fig.send_message(\"refresh\", {});\n",
       "    };\n",
       "}\n",
       "\n",
       "mpl.figure.prototype.handle_rubberband = function(fig, msg) {\n",
       "    var x0 = msg['x0'];\n",
       "    var y0 = fig.canvas.height - msg['y0'];\n",
       "    var x1 = msg['x1'];\n",
       "    var y1 = fig.canvas.height - msg['y1'];\n",
       "    x0 = Math.floor(x0) + 0.5;\n",
       "    y0 = Math.floor(y0) + 0.5;\n",
       "    x1 = Math.floor(x1) + 0.5;\n",
       "    y1 = Math.floor(y1) + 0.5;\n",
       "    var min_x = Math.min(x0, x1);\n",
       "    var min_y = Math.min(y0, y1);\n",
       "    var width = Math.abs(x1 - x0);\n",
       "    var height = Math.abs(y1 - y0);\n",
       "\n",
       "    fig.rubberband_context.clearRect(\n",
       "        0, 0, fig.canvas.width, fig.canvas.height);\n",
       "\n",
       "    fig.rubberband_context.strokeRect(min_x, min_y, width, height);\n",
       "}\n",
       "\n",
       "mpl.figure.prototype.handle_figure_label = function(fig, msg) {\n",
       "    // Updates the figure title.\n",
       "    fig.header.textContent = msg['label'];\n",
       "}\n",
       "\n",
       "mpl.figure.prototype.handle_cursor = function(fig, msg) {\n",
       "    var cursor = msg['cursor'];\n",
       "    switch(cursor)\n",
       "    {\n",
       "    case 0:\n",
       "        cursor = 'pointer';\n",
       "        break;\n",
       "    case 1:\n",
       "        cursor = 'default';\n",
       "        break;\n",
       "    case 2:\n",
       "        cursor = 'crosshair';\n",
       "        break;\n",
       "    case 3:\n",
       "        cursor = 'move';\n",
       "        break;\n",
       "    }\n",
       "    fig.rubberband_canvas.style.cursor = cursor;\n",
       "}\n",
       "\n",
       "mpl.figure.prototype.handle_message = function(fig, msg) {\n",
       "    fig.message.textContent = msg['message'];\n",
       "}\n",
       "\n",
       "mpl.figure.prototype.handle_draw = function(fig, msg) {\n",
       "    // Request the server to send over a new figure.\n",
       "    fig.send_draw_message();\n",
       "}\n",
       "\n",
       "mpl.figure.prototype.handle_image_mode = function(fig, msg) {\n",
       "    fig.image_mode = msg['mode'];\n",
       "}\n",
       "\n",
       "mpl.figure.prototype.updated_canvas_event = function() {\n",
       "    // Called whenever the canvas gets updated.\n",
       "    this.send_message(\"ack\", {});\n",
       "}\n",
       "\n",
       "// A function to construct a web socket function for onmessage handling.\n",
       "// Called in the figure constructor.\n",
       "mpl.figure.prototype._make_on_message_function = function(fig) {\n",
       "    return function socket_on_message(evt) {\n",
       "        if (evt.data instanceof Blob) {\n",
       "            /* FIXME: We get \"Resource interpreted as Image but\n",
       "             * transferred with MIME type text/plain:\" errors on\n",
       "             * Chrome.  But how to set the MIME type?  It doesn't seem\n",
       "             * to be part of the websocket stream */\n",
       "            evt.data.type = \"image/png\";\n",
       "\n",
       "            /* Free the memory for the previous frames */\n",
       "            if (fig.imageObj.src) {\n",
       "                (window.URL || window.webkitURL).revokeObjectURL(\n",
       "                    fig.imageObj.src);\n",
       "            }\n",
       "\n",
       "            fig.imageObj.src = (window.URL || window.webkitURL).createObjectURL(\n",
       "                evt.data);\n",
       "            fig.updated_canvas_event();\n",
       "            fig.waiting = false;\n",
       "            return;\n",
       "        }\n",
       "        else if (typeof evt.data === 'string' && evt.data.slice(0, 21) == \"data:image/png;base64\") {\n",
       "            fig.imageObj.src = evt.data;\n",
       "            fig.updated_canvas_event();\n",
       "            fig.waiting = false;\n",
       "            return;\n",
       "        }\n",
       "\n",
       "        var msg = JSON.parse(evt.data);\n",
       "        var msg_type = msg['type'];\n",
       "\n",
       "        // Call the  \"handle_{type}\" callback, which takes\n",
       "        // the figure and JSON message as its only arguments.\n",
       "        try {\n",
       "            var callback = fig[\"handle_\" + msg_type];\n",
       "        } catch (e) {\n",
       "            console.log(\"No handler for the '\" + msg_type + \"' message type: \", msg);\n",
       "            return;\n",
       "        }\n",
       "\n",
       "        if (callback) {\n",
       "            try {\n",
       "                // console.log(\"Handling '\" + msg_type + \"' message: \", msg);\n",
       "                callback(fig, msg);\n",
       "            } catch (e) {\n",
       "                console.log(\"Exception inside the 'handler_\" + msg_type + \"' callback:\", e, e.stack, msg);\n",
       "            }\n",
       "        }\n",
       "    };\n",
       "}\n",
       "\n",
       "// from http://stackoverflow.com/questions/1114465/getting-mouse-location-in-canvas\n",
       "mpl.findpos = function(e) {\n",
       "    //this section is from http://www.quirksmode.org/js/events_properties.html\n",
       "    var targ;\n",
       "    if (!e)\n",
       "        e = window.event;\n",
       "    if (e.target)\n",
       "        targ = e.target;\n",
       "    else if (e.srcElement)\n",
       "        targ = e.srcElement;\n",
       "    if (targ.nodeType == 3) // defeat Safari bug\n",
       "        targ = targ.parentNode;\n",
       "\n",
       "    // jQuery normalizes the pageX and pageY\n",
       "    // pageX,Y are the mouse positions relative to the document\n",
       "    // offset() returns the position of the element relative to the document\n",
       "    var x = e.pageX - $(targ).offset().left;\n",
       "    var y = e.pageY - $(targ).offset().top;\n",
       "\n",
       "    return {\"x\": x, \"y\": y};\n",
       "};\n",
       "\n",
       "/*\n",
       " * return a copy of an object with only non-object keys\n",
       " * we need this to avoid circular references\n",
       " * http://stackoverflow.com/a/24161582/3208463\n",
       " */\n",
       "function simpleKeys (original) {\n",
       "  return Object.keys(original).reduce(function (obj, key) {\n",
       "    if (typeof original[key] !== 'object')\n",
       "        obj[key] = original[key]\n",
       "    return obj;\n",
       "  }, {});\n",
       "}\n",
       "\n",
       "mpl.figure.prototype.mouse_event = function(event, name) {\n",
       "    var canvas_pos = mpl.findpos(event)\n",
       "\n",
       "    if (name === 'button_press')\n",
       "    {\n",
       "        this.canvas.focus();\n",
       "        this.canvas_div.focus();\n",
       "    }\n",
       "\n",
       "    var x = canvas_pos.x;\n",
       "    var y = canvas_pos.y;\n",
       "\n",
       "    this.send_message(name, {x: x, y: y, button: event.button,\n",
       "                             step: event.step,\n",
       "                             guiEvent: simpleKeys(event)});\n",
       "\n",
       "    /* This prevents the web browser from automatically changing to\n",
       "     * the text insertion cursor when the button is pressed.  We want\n",
       "     * to control all of the cursor setting manually through the\n",
       "     * 'cursor' event from matplotlib */\n",
       "    event.preventDefault();\n",
       "    return false;\n",
       "}\n",
       "\n",
       "mpl.figure.prototype._key_event_extra = function(event, name) {\n",
       "    // Handle any extra behaviour associated with a key event\n",
       "}\n",
       "\n",
       "mpl.figure.prototype.key_event = function(event, name) {\n",
       "\n",
       "    // Prevent repeat events\n",
       "    if (name == 'key_press')\n",
       "    {\n",
       "        if (event.which === this._key)\n",
       "            return;\n",
       "        else\n",
       "            this._key = event.which;\n",
       "    }\n",
       "    if (name == 'key_release')\n",
       "        this._key = null;\n",
       "\n",
       "    var value = '';\n",
       "    if (event.ctrlKey && event.which != 17)\n",
       "        value += \"ctrl+\";\n",
       "    if (event.altKey && event.which != 18)\n",
       "        value += \"alt+\";\n",
       "    if (event.shiftKey && event.which != 16)\n",
       "        value += \"shift+\";\n",
       "\n",
       "    value += 'k';\n",
       "    value += event.which.toString();\n",
       "\n",
       "    this._key_event_extra(event, name);\n",
       "\n",
       "    this.send_message(name, {key: value,\n",
       "                             guiEvent: simpleKeys(event)});\n",
       "    return false;\n",
       "}\n",
       "\n",
       "mpl.figure.prototype.toolbar_button_onclick = function(name) {\n",
       "    if (name == 'download') {\n",
       "        this.handle_save(this, null);\n",
       "    } else {\n",
       "        this.send_message(\"toolbar_button\", {name: name});\n",
       "    }\n",
       "};\n",
       "\n",
       "mpl.figure.prototype.toolbar_button_onmouseover = function(tooltip) {\n",
       "    this.message.textContent = tooltip;\n",
       "};\n",
       "mpl.toolbar_items = [[\"Home\", \"Reset original view\", \"fa fa-home icon-home\", \"home\"], [\"Back\", \"Back to  previous view\", \"fa fa-arrow-left icon-arrow-left\", \"back\"], [\"Forward\", \"Forward to next view\", \"fa fa-arrow-right icon-arrow-right\", \"forward\"], [\"\", \"\", \"\", \"\"], [\"Pan\", \"Pan axes with left mouse, zoom with right\", \"fa fa-arrows icon-move\", \"pan\"], [\"Zoom\", \"Zoom to rectangle\", \"fa fa-square-o icon-check-empty\", \"zoom\"], [\"\", \"\", \"\", \"\"], [\"Download\", \"Download plot\", \"fa fa-floppy-o icon-save\", \"download\"]];\n",
       "\n",
       "mpl.extensions = [\"eps\", \"jpeg\", \"pdf\", \"png\", \"ps\", \"raw\", \"svg\", \"tif\"];\n",
       "\n",
       "mpl.default_extension = \"png\";var comm_websocket_adapter = function(comm) {\n",
       "    // Create a \"websocket\"-like object which calls the given IPython comm\n",
       "    // object with the appropriate methods. Currently this is a non binary\n",
       "    // socket, so there is still some room for performance tuning.\n",
       "    var ws = {};\n",
       "\n",
       "    ws.close = function() {\n",
       "        comm.close()\n",
       "    };\n",
       "    ws.send = function(m) {\n",
       "        //console.log('sending', m);\n",
       "        comm.send(m);\n",
       "    };\n",
       "    // Register the callback with on_msg.\n",
       "    comm.on_msg(function(msg) {\n",
       "        //console.log('receiving', msg['content']['data'], msg);\n",
       "        // Pass the mpl event to the overriden (by mpl) onmessage function.\n",
       "        ws.onmessage(msg['content']['data'])\n",
       "    });\n",
       "    return ws;\n",
       "}\n",
       "\n",
       "mpl.mpl_figure_comm = function(comm, msg) {\n",
       "    // This is the function which gets called when the mpl process\n",
       "    // starts-up an IPython Comm through the \"matplotlib\" channel.\n",
       "\n",
       "    var id = msg.content.data.id;\n",
       "    // Get hold of the div created by the display call when the Comm\n",
       "    // socket was opened in Python.\n",
       "    var element = $(\"#\" + id);\n",
       "    var ws_proxy = comm_websocket_adapter(comm)\n",
       "\n",
       "    function ondownload(figure, format) {\n",
       "        window.open(figure.imageObj.src);\n",
       "    }\n",
       "\n",
       "    var fig = new mpl.figure(id, ws_proxy,\n",
       "                           ondownload,\n",
       "                           element.get(0));\n",
       "\n",
       "    // Call onopen now - mpl needs it, as it is assuming we've passed it a real\n",
       "    // web socket which is closed, not our websocket->open comm proxy.\n",
       "    ws_proxy.onopen();\n",
       "\n",
       "    fig.parent_element = element.get(0);\n",
       "    fig.cell_info = mpl.find_output_cell(\"<div id='\" + id + \"'></div>\");\n",
       "    if (!fig.cell_info) {\n",
       "        console.error(\"Failed to find cell for figure\", id, fig);\n",
       "        return;\n",
       "    }\n",
       "\n",
       "    var output_index = fig.cell_info[2]\n",
       "    var cell = fig.cell_info[0];\n",
       "\n",
       "};\n",
       "\n",
       "mpl.figure.prototype.handle_close = function(fig, msg) {\n",
       "    fig.root.unbind('remove')\n",
       "\n",
       "    // Update the output cell to use the data from the current canvas.\n",
       "    fig.push_to_output();\n",
       "    var dataURL = fig.canvas.toDataURL();\n",
       "    // Re-enable the keyboard manager in IPython - without this line, in FF,\n",
       "    // the notebook keyboard shortcuts fail.\n",
       "    IPython.keyboard_manager.enable()\n",
       "    $(fig.parent_element).html('<img src=\"' + dataURL + '\">');\n",
       "    fig.close_ws(fig, msg);\n",
       "}\n",
       "\n",
       "mpl.figure.prototype.close_ws = function(fig, msg){\n",
       "    fig.send_message('closing', msg);\n",
       "    // fig.ws.close()\n",
       "}\n",
       "\n",
       "mpl.figure.prototype.push_to_output = function(remove_interactive) {\n",
       "    // Turn the data on the canvas into data in the output cell.\n",
       "    var dataURL = this.canvas.toDataURL();\n",
       "    this.cell_info[1]['text/html'] = '<img src=\"' + dataURL + '\">';\n",
       "}\n",
       "\n",
       "mpl.figure.prototype.updated_canvas_event = function() {\n",
       "    // Tell IPython that the notebook contents must change.\n",
       "    IPython.notebook.set_dirty(true);\n",
       "    this.send_message(\"ack\", {});\n",
       "    var fig = this;\n",
       "    // Wait a second, then push the new image to the DOM so\n",
       "    // that it is saved nicely (might be nice to debounce this).\n",
       "    setTimeout(function () { fig.push_to_output() }, 1000);\n",
       "}\n",
       "\n",
       "mpl.figure.prototype._init_toolbar = function() {\n",
       "    var fig = this;\n",
       "\n",
       "    var nav_element = $('<div/>')\n",
       "    nav_element.attr('style', 'width: 100%');\n",
       "    this.root.append(nav_element);\n",
       "\n",
       "    // Define a callback function for later on.\n",
       "    function toolbar_event(event) {\n",
       "        return fig.toolbar_button_onclick(event['data']);\n",
       "    }\n",
       "    function toolbar_mouse_event(event) {\n",
       "        return fig.toolbar_button_onmouseover(event['data']);\n",
       "    }\n",
       "\n",
       "    for(var toolbar_ind in mpl.toolbar_items){\n",
       "        var name = mpl.toolbar_items[toolbar_ind][0];\n",
       "        var tooltip = mpl.toolbar_items[toolbar_ind][1];\n",
       "        var image = mpl.toolbar_items[toolbar_ind][2];\n",
       "        var method_name = mpl.toolbar_items[toolbar_ind][3];\n",
       "\n",
       "        if (!name) { continue; };\n",
       "\n",
       "        var button = $('<button class=\"btn btn-default\" href=\"#\" title=\"' + name + '\"><i class=\"fa ' + image + ' fa-lg\"></i></button>');\n",
       "        button.click(method_name, toolbar_event);\n",
       "        button.mouseover(tooltip, toolbar_mouse_event);\n",
       "        nav_element.append(button);\n",
       "    }\n",
       "\n",
       "    // Add the status bar.\n",
       "    var status_bar = $('<span class=\"mpl-message\" style=\"text-align:right; float: right;\"/>');\n",
       "    nav_element.append(status_bar);\n",
       "    this.message = status_bar[0];\n",
       "\n",
       "    // Add the close button to the window.\n",
       "    var buttongrp = $('<div class=\"btn-group inline pull-right\"></div>');\n",
       "    var button = $('<button class=\"btn btn-mini btn-primary\" href=\"#\" title=\"Stop Interaction\"><i class=\"fa fa-power-off icon-remove icon-large\"></i></button>');\n",
       "    button.click(function (evt) { fig.handle_close(fig, {}); } );\n",
       "    button.mouseover('Stop Interaction', toolbar_mouse_event);\n",
       "    buttongrp.append(button);\n",
       "    var titlebar = this.root.find($('.ui-dialog-titlebar'));\n",
       "    titlebar.prepend(buttongrp);\n",
       "}\n",
       "\n",
       "mpl.figure.prototype._root_extra_style = function(el){\n",
       "    var fig = this\n",
       "    el.on(\"remove\", function(){\n",
       "\tfig.close_ws(fig, {});\n",
       "    });\n",
       "}\n",
       "\n",
       "mpl.figure.prototype._canvas_extra_style = function(el){\n",
       "    // this is important to make the div 'focusable\n",
       "    el.attr('tabindex', 0)\n",
       "    // reach out to IPython and tell the keyboard manager to turn it's self\n",
       "    // off when our div gets focus\n",
       "\n",
       "    // location in version 3\n",
       "    if (IPython.notebook.keyboard_manager) {\n",
       "        IPython.notebook.keyboard_manager.register_events(el);\n",
       "    }\n",
       "    else {\n",
       "        // location in version 2\n",
       "        IPython.keyboard_manager.register_events(el);\n",
       "    }\n",
       "\n",
       "}\n",
       "\n",
       "mpl.figure.prototype._key_event_extra = function(event, name) {\n",
       "    var manager = IPython.notebook.keyboard_manager;\n",
       "    if (!manager)\n",
       "        manager = IPython.keyboard_manager;\n",
       "\n",
       "    // Check for shift+enter\n",
       "    if (event.shiftKey && event.which == 13) {\n",
       "        this.canvas_div.blur();\n",
       "        // select the cell after this one\n",
       "        var index = IPython.notebook.find_cell_index(this.cell_info[0]);\n",
       "        IPython.notebook.select(index + 1);\n",
       "    }\n",
       "}\n",
       "\n",
       "mpl.figure.prototype.handle_save = function(fig, msg) {\n",
       "    fig.ondownload(fig, null);\n",
       "}\n",
       "\n",
       "\n",
       "mpl.find_output_cell = function(html_output) {\n",
       "    // Return the cell and output element which can be found *uniquely* in the notebook.\n",
       "    // Note - this is a bit hacky, but it is done because the \"notebook_saving.Notebook\"\n",
       "    // IPython event is triggered only after the cells have been serialised, which for\n",
       "    // our purposes (turning an active figure into a static one), is too late.\n",
       "    var cells = IPython.notebook.get_cells();\n",
       "    var ncells = cells.length;\n",
       "    for (var i=0; i<ncells; i++) {\n",
       "        var cell = cells[i];\n",
       "        if (cell.cell_type === 'code'){\n",
       "            for (var j=0; j<cell.output_area.outputs.length; j++) {\n",
       "                var data = cell.output_area.outputs[j];\n",
       "                if (data.data) {\n",
       "                    // IPython >= 3 moved mimebundle to data attribute of output\n",
       "                    data = data.data;\n",
       "                }\n",
       "                if (data['text/html'] == html_output) {\n",
       "                    return [cell, data, j];\n",
       "                }\n",
       "            }\n",
       "        }\n",
       "    }\n",
       "}\n",
       "\n",
       "// Register the function which deals with the matplotlib target/channel.\n",
       "// The kernel may be null if the page has been refreshed.\n",
       "if (IPython.notebook.kernel != null) {\n",
       "    IPython.notebook.kernel.comm_manager.register_target('matplotlib', mpl.mpl_figure_comm);\n",
       "}\n"
      ],
      "text/plain": [
       "<IPython.core.display.Javascript object>"
      ]
     },
     "metadata": {},
     "output_type": "display_data"
    },
    {
     "data": {
      "text/html": [
       "<img src=\"data:image/png;base64,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\">"
      ],
      "text/plain": [
       "<IPython.core.display.HTML object>"
      ]
     },
     "metadata": {},
     "output_type": "display_data"
    }
   ],
   "source": [
    "createPlot(myTree)"
   ]
  },
  {
   "cell_type": "code",
   "execution_count": 70,
   "metadata": {
    "collapsed": true
   },
   "outputs": [],
   "source": [
    "#导入相应的包\n",
    "from sklearn import tree\n",
    "from sklearn.tree import DecisionTreeClassifier\n",
    "import graphviz\n",
    "from sklearn.tree import export_graphviz\n",
    "#特征\n",
    "Xtrain = dataSet.iloc[:,:-1]\n",
    "#标签\n",
    "Ytrain = dataSet.iloc[:,-1]\n",
    "labels = Ytrain.unique().tolist()\n",
    "Ytrain = Ytrain.apply(lambda x: labels.index(x))  #将本文转换为数字"
   ]
  },
  {
   "cell_type": "code",
   "execution_count": 74,
   "metadata": {
    "collapsed": false
   },
   "outputs": [
    {
     "data": {
      "text/plain": [
       "0    1\n",
       "1    1\n",
       "2    0\n",
       "3    0\n",
       "4    0\n",
       "Name: fish, dtype: int32"
      ]
     },
     "execution_count": 74,
     "metadata": {},
     "output_type": "execute_result"
    }
   ],
   "source": [
    "(dataSet.iloc[:,-1] == 'yes').astype('int')"
   ]
  },
  {
   "cell_type": "code",
   "execution_count": 75,
   "metadata": {
    "collapsed": false
   },
   "outputs": [
    {
     "data": {
      "image/svg+xml": [
       "<?xml version=\"1.0\" encoding=\"UTF-8\" standalone=\"no\"?>\r\n",
       "<!DOCTYPE svg PUBLIC \"-//W3C//DTD SVG 1.1//EN\"\r\n",
       " \"http://www.w3.org/Graphics/SVG/1.1/DTD/svg11.dtd\">\r\n",
       "<!-- Generated by graphviz version 2.38.0 (20140413.2041)\r\n",
       " -->\r\n",
       "<!-- Title: Tree Pages: 1 -->\r\n",
       "<svg width=\"262pt\" height=\"269pt\"\r\n",
       " viewBox=\"0.00 0.00 262.00 269.00\" xmlns=\"http://www.w3.org/2000/svg\" xmlns:xlink=\"http://www.w3.org/1999/xlink\">\r\n",
       "<g id=\"graph0\" class=\"graph\" transform=\"scale(1 1) rotate(0) translate(4 265)\">\r\n",
       "<title>Tree</title>\r\n",
       "<polygon fill=\"white\" stroke=\"none\" points=\"-4,4 -4,-265 258,-265 258,4 -4,4\"/>\r\n",
       "<!-- 0 -->\r\n",
       "<g id=\"node1\" class=\"node\"><title>0</title>\r\n",
       "<polygon fill=\"none\" stroke=\"black\" points=\"145,-261 54,-261 54,-193 145,-193 145,-261\"/>\r\n",
       "<text text-anchor=\"middle\" x=\"99.5\" y=\"-245.8\" font-family=\"Times New Roman,serif\" font-size=\"14.00\">X[0] &lt;= 0.5</text>\r\n",
       "<text text-anchor=\"middle\" x=\"99.5\" y=\"-230.8\" font-family=\"Times New Roman,serif\" font-size=\"14.00\">gini = 0.48</text>\r\n",
       "<text text-anchor=\"middle\" x=\"99.5\" y=\"-215.8\" font-family=\"Times New Roman,serif\" font-size=\"14.00\">samples = 5</text>\r\n",
       "<text text-anchor=\"middle\" x=\"99.5\" y=\"-200.8\" font-family=\"Times New Roman,serif\" font-size=\"14.00\">value = [2, 3]</text>\r\n",
       "</g>\r\n",
       "<!-- 1 -->\r\n",
       "<g id=\"node2\" class=\"node\"><title>1</title>\r\n",
       "<polygon fill=\"none\" stroke=\"black\" points=\"91,-149.5 0,-149.5 0,-96.5 91,-96.5 91,-149.5\"/>\r\n",
       "<text text-anchor=\"middle\" x=\"45.5\" y=\"-134.3\" font-family=\"Times New Roman,serif\" font-size=\"14.00\">gini = 0.0</text>\r\n",
       "<text text-anchor=\"middle\" x=\"45.5\" y=\"-119.3\" font-family=\"Times New Roman,serif\" font-size=\"14.00\">samples = 2</text>\r\n",
       "<text text-anchor=\"middle\" x=\"45.5\" y=\"-104.3\" font-family=\"Times New Roman,serif\" font-size=\"14.00\">value = [0, 2]</text>\r\n",
       "</g>\r\n",
       "<!-- 0&#45;&gt;1 -->\r\n",
       "<g id=\"edge1\" class=\"edge\"><title>0&#45;&gt;1</title>\r\n",
       "<path fill=\"none\" stroke=\"black\" d=\"M81.9677,-192.884C76.1453,-181.886 69.6504,-169.617 63.7735,-158.517\"/>\r\n",
       "<polygon fill=\"black\" stroke=\"black\" points=\"66.7827,-156.72 59.0106,-149.52 60.5962,-159.995 66.7827,-156.72\"/>\r\n",
       "<text text-anchor=\"middle\" x=\"51.6584\" y=\"-169.714\" font-family=\"Times New Roman,serif\" font-size=\"14.00\">True</text>\r\n",
       "</g>\r\n",
       "<!-- 2 -->\r\n",
       "<g id=\"node3\" class=\"node\"><title>2</title>\r\n",
       "<polygon fill=\"none\" stroke=\"black\" points=\"200,-157 109,-157 109,-89 200,-89 200,-157\"/>\r\n",
       "<text text-anchor=\"middle\" x=\"154.5\" y=\"-141.8\" font-family=\"Times New Roman,serif\" font-size=\"14.00\">X[1] &lt;= 0.5</text>\r\n",
       "<text text-anchor=\"middle\" x=\"154.5\" y=\"-126.8\" font-family=\"Times New Roman,serif\" font-size=\"14.00\">gini = 0.444</text>\r\n",
       "<text text-anchor=\"middle\" x=\"154.5\" y=\"-111.8\" font-family=\"Times New Roman,serif\" font-size=\"14.00\">samples = 3</text>\r\n",
       "<text text-anchor=\"middle\" x=\"154.5\" y=\"-96.8\" font-family=\"Times New Roman,serif\" font-size=\"14.00\">value = [2, 1]</text>\r\n",
       "</g>\r\n",
       "<!-- 0&#45;&gt;2 -->\r\n",
       "<g id=\"edge2\" class=\"edge\"><title>0&#45;&gt;2</title>\r\n",
       "<path fill=\"none\" stroke=\"black\" d=\"M117.357,-192.884C121.92,-184.422 126.888,-175.207 131.663,-166.352\"/>\r\n",
       "<polygon fill=\"black\" stroke=\"black\" points=\"134.879,-167.762 136.544,-157.299 128.718,-164.44 134.879,-167.762\"/>\r\n",
       "<text text-anchor=\"middle\" x=\"143.714\" y=\"-177.549\" font-family=\"Times New Roman,serif\" font-size=\"14.00\">False</text>\r\n",
       "</g>\r\n",
       "<!-- 3 -->\r\n",
       "<g id=\"node4\" class=\"node\"><title>3</title>\r\n",
       "<polygon fill=\"none\" stroke=\"black\" points=\"145,-53 54,-53 54,-0 145,-0 145,-53\"/>\r\n",
       "<text text-anchor=\"middle\" x=\"99.5\" y=\"-37.8\" font-family=\"Times New Roman,serif\" font-size=\"14.00\">gini = 0.0</text>\r\n",
       "<text text-anchor=\"middle\" x=\"99.5\" y=\"-22.8\" font-family=\"Times New Roman,serif\" font-size=\"14.00\">samples = 1</text>\r\n",
       "<text text-anchor=\"middle\" x=\"99.5\" y=\"-7.8\" font-family=\"Times New Roman,serif\" font-size=\"14.00\">value = [0, 1]</text>\r\n",
       "</g>\r\n",
       "<!-- 2&#45;&gt;3 -->\r\n",
       "<g id=\"edge3\" class=\"edge\"><title>2&#45;&gt;3</title>\r\n",
       "<path fill=\"none\" stroke=\"black\" d=\"M135.264,-88.9485C130.206,-80.2579 124.736,-70.8608 119.633,-62.0917\"/>\r\n",
       "<polygon fill=\"black\" stroke=\"black\" points=\"122.534,-60.1189 114.479,-53.2367 116.484,-63.6401 122.534,-60.1189\"/>\r\n",
       "</g>\r\n",
       "<!-- 4 -->\r\n",
       "<g id=\"node5\" class=\"node\"><title>4</title>\r\n",
       "<polygon fill=\"none\" stroke=\"black\" points=\"254,-53 163,-53 163,-0 254,-0 254,-53\"/>\r\n",
       "<text text-anchor=\"middle\" x=\"208.5\" y=\"-37.8\" font-family=\"Times New Roman,serif\" font-size=\"14.00\">gini = 0.0</text>\r\n",
       "<text text-anchor=\"middle\" x=\"208.5\" y=\"-22.8\" font-family=\"Times New Roman,serif\" font-size=\"14.00\">samples = 2</text>\r\n",
       "<text text-anchor=\"middle\" x=\"208.5\" y=\"-7.8\" font-family=\"Times New Roman,serif\" font-size=\"14.00\">value = [2, 0]</text>\r\n",
       "</g>\r\n",
       "<!-- 2&#45;&gt;4 -->\r\n",
       "<g id=\"edge4\" class=\"edge\"><title>2&#45;&gt;4</title>\r\n",
       "<path fill=\"none\" stroke=\"black\" d=\"M173.387,-88.9485C178.353,-80.2579 183.722,-70.8608 188.733,-62.0917\"/>\r\n",
       "<polygon fill=\"black\" stroke=\"black\" points=\"191.871,-63.6557 193.793,-53.2367 185.793,-60.1826 191.871,-63.6557\"/>\r\n",
       "</g>\r\n",
       "</g>\r\n",
       "</svg>\r\n"
      ],
      "text/plain": [
       "<graphviz.files.Source at 0x98def60>"
      ]
     },
     "execution_count": 75,
     "metadata": {},
     "output_type": "execute_result"
    }
   ],
   "source": [
    "#绘制树模型\n",
    "clf = DecisionTreeClassifier()\n",
    "clf = clf.fit(Xtrain, Ytrain)\n",
    "tree.export_graphviz(clf)\n",
    "dot_data = tree.export_graphviz(clf, out_file=None)\n",
    "graphviz.Source(dot_data)"
   ]
  },
  {
   "cell_type": "code",
   "execution_count": 78,
   "metadata": {
    "collapsed": false
   },
   "outputs": [
    {
     "data": {
      "image/svg+xml": [
       "<?xml version=\"1.0\" encoding=\"UTF-8\" standalone=\"no\"?>\r\n",
       "<!DOCTYPE svg PUBLIC \"-//W3C//DTD SVG 1.1//EN\"\r\n",
       " \"http://www.w3.org/Graphics/SVG/1.1/DTD/svg11.dtd\">\r\n",
       "<!-- Generated by graphviz version 2.38.0 (20140413.2041)\r\n",
       " -->\r\n",
       "<!-- Title: Tree Pages: 1 -->\r\n",
       "<svg width=\"296pt\" height=\"314pt\"\r\n",
       " viewBox=\"0.00 0.00 296.00 314.00\" xmlns=\"http://www.w3.org/2000/svg\" xmlns:xlink=\"http://www.w3.org/1999/xlink\">\r\n",
       "<g id=\"graph0\" class=\"graph\" transform=\"scale(1 1) rotate(0) translate(4 310)\">\r\n",
       "<title>Tree</title>\r\n",
       "<polygon fill=\"white\" stroke=\"none\" points=\"-4,4 -4,-310 292,-310 292,4 -4,4\"/>\r\n",
       "<!-- 0 -->\r\n",
       "<g id=\"node1\" class=\"node\"><title>0</title>\r\n",
       "<path fill=\"#399de5\" fill-opacity=\"0.333333\" stroke=\"black\" d=\"M169,-306C169,-306 64,-306 64,-306 58,-306 52,-300 52,-294 52,-294 52,-235 52,-235 52,-229 58,-223 64,-223 64,-223 169,-223 169,-223 175,-223 181,-229 181,-235 181,-235 181,-294 181,-294 181,-300 175,-306 169,-306\"/>\r\n",
       "<text text-anchor=\"start\" x=\"60\" y=\"-290.8\" font-family=\"Helvetica,sans-Serif\" font-size=\"14.00\">no surfacing ≤ 0.5</text>\r\n",
       "<text text-anchor=\"start\" x=\"83\" y=\"-275.8\" font-family=\"Helvetica,sans-Serif\" font-size=\"14.00\">gini = 0.48</text>\r\n",
       "<text text-anchor=\"start\" x=\"77\" y=\"-260.8\" font-family=\"Helvetica,sans-Serif\" font-size=\"14.00\">samples = 5</text>\r\n",
       "<text text-anchor=\"start\" x=\"76\" y=\"-245.8\" font-family=\"Helvetica,sans-Serif\" font-size=\"14.00\">value = [2, 3]</text>\r\n",
       "<text text-anchor=\"start\" x=\"69\" y=\"-230.8\" font-family=\"Helvetica,sans-Serif\" font-size=\"14.00\">class = not fish</text>\r\n",
       "</g>\r\n",
       "<!-- 1 -->\r\n",
       "<g id=\"node2\" class=\"node\"><title>1</title>\r\n",
       "<path fill=\"#399de5\" stroke=\"black\" d=\"M99,-179.5C99,-179.5 12,-179.5 12,-179.5 6,-179.5 0,-173.5 0,-167.5 0,-167.5 0,-123.5 0,-123.5 0,-117.5 6,-111.5 12,-111.5 12,-111.5 99,-111.5 99,-111.5 105,-111.5 111,-117.5 111,-123.5 111,-123.5 111,-167.5 111,-167.5 111,-173.5 105,-179.5 99,-179.5\"/>\r\n",
       "<text text-anchor=\"start\" x=\"26.5\" y=\"-164.3\" font-family=\"Helvetica,sans-Serif\" font-size=\"14.00\">gini = 0.0</text>\r\n",
       "<text text-anchor=\"start\" x=\"16\" y=\"-149.3\" font-family=\"Helvetica,sans-Serif\" font-size=\"14.00\">samples = 2</text>\r\n",
       "<text text-anchor=\"start\" x=\"15\" y=\"-134.3\" font-family=\"Helvetica,sans-Serif\" font-size=\"14.00\">value = [0, 2]</text>\r\n",
       "<text text-anchor=\"start\" x=\"8\" y=\"-119.3\" font-family=\"Helvetica,sans-Serif\" font-size=\"14.00\">class = not fish</text>\r\n",
       "</g>\r\n",
       "<!-- 0&#45;&gt;1 -->\r\n",
       "<g id=\"edge1\" class=\"edge\"><title>0&#45;&gt;1</title>\r\n",
       "<path fill=\"none\" stroke=\"black\" d=\"M95.3364,-222.907C89.5833,-211.873 83.3398,-199.898 77.5396,-188.773\"/>\r\n",
       "<polygon fill=\"black\" stroke=\"black\" points=\"80.5188,-186.916 72.7922,-179.667 74.3118,-190.152 80.5188,-186.916\"/>\r\n",
       "<text text-anchor=\"middle\" x=\"65.2895\" y=\"-199.815\" font-family=\"Helvetica,sans-Serif\" font-size=\"14.00\">True</text>\r\n",
       "</g>\r\n",
       "<!-- 2 -->\r\n",
       "<g id=\"node3\" class=\"node\"><title>2</title>\r\n",
       "<path fill=\"#e58139\" fill-opacity=\"0.498039\" stroke=\"black\" d=\"M216,-187C216,-187 141,-187 141,-187 135,-187 129,-181 129,-175 129,-175 129,-116 129,-116 129,-110 135,-104 141,-104 141,-104 216,-104 216,-104 222,-104 228,-110 228,-116 228,-116 228,-175 228,-175 228,-181 222,-187 216,-187\"/>\r\n",
       "<text text-anchor=\"start\" x=\"137\" y=\"-171.8\" font-family=\"Helvetica,sans-Serif\" font-size=\"14.00\">flippers ≤ 0.5</text>\r\n",
       "<text text-anchor=\"start\" x=\"141\" y=\"-156.8\" font-family=\"Helvetica,sans-Serif\" font-size=\"14.00\">gini = 0.444</text>\r\n",
       "<text text-anchor=\"start\" x=\"139\" y=\"-141.8\" font-family=\"Helvetica,sans-Serif\" font-size=\"14.00\">samples = 3</text>\r\n",
       "<text text-anchor=\"start\" x=\"138\" y=\"-126.8\" font-family=\"Helvetica,sans-Serif\" font-size=\"14.00\">value = [2, 1]</text>\r\n",
       "<text text-anchor=\"start\" x=\"142.5\" y=\"-111.8\" font-family=\"Helvetica,sans-Serif\" font-size=\"14.00\">class = fish</text>\r\n",
       "</g>\r\n",
       "<!-- 0&#45;&gt;2 -->\r\n",
       "<g id=\"edge2\" class=\"edge\"><title>0&#45;&gt;2</title>\r\n",
       "<path fill=\"none\" stroke=\"black\" d=\"M138.011,-222.907C142.627,-214.195 147.555,-204.897 152.326,-195.893\"/>\r\n",
       "<polygon fill=\"black\" stroke=\"black\" points=\"155.438,-197.496 157.027,-187.021 149.252,-194.218 155.438,-197.496\"/>\r\n",
       "<text text-anchor=\"middle\" x=\"164.37\" y=\"-207.218\" font-family=\"Helvetica,sans-Serif\" font-size=\"14.00\">False</text>\r\n",
       "</g>\r\n",
       "<!-- 3 -->\r\n",
       "<g id=\"node4\" class=\"node\"><title>3</title>\r\n",
       "<path fill=\"#399de5\" stroke=\"black\" d=\"M161,-68C161,-68 74,-68 74,-68 68,-68 62,-62 62,-56 62,-56 62,-12 62,-12 62,-6 68,-0 74,-0 74,-0 161,-0 161,-0 167,-0 173,-6 173,-12 173,-12 173,-56 173,-56 173,-62 167,-68 161,-68\"/>\r\n",
       "<text text-anchor=\"start\" x=\"88.5\" y=\"-52.8\" font-family=\"Helvetica,sans-Serif\" font-size=\"14.00\">gini = 0.0</text>\r\n",
       "<text text-anchor=\"start\" x=\"78\" y=\"-37.8\" font-family=\"Helvetica,sans-Serif\" font-size=\"14.00\">samples = 1</text>\r\n",
       "<text text-anchor=\"start\" x=\"77\" y=\"-22.8\" font-family=\"Helvetica,sans-Serif\" font-size=\"14.00\">value = [0, 1]</text>\r\n",
       "<text text-anchor=\"start\" x=\"70\" y=\"-7.8\" font-family=\"Helvetica,sans-Serif\" font-size=\"14.00\">class = not fish</text>\r\n",
       "</g>\r\n",
       "<!-- 2&#45;&gt;3 -->\r\n",
       "<g id=\"edge3\" class=\"edge\"><title>2&#45;&gt;3</title>\r\n",
       "<path fill=\"none\" stroke=\"black\" d=\"M155.786,-103.726C150.959,-95.0615 145.853,-85.8962 140.998,-77.1802\"/>\r\n",
       "<polygon fill=\"black\" stroke=\"black\" points=\"143.975,-75.3322 136.05,-68.2996 137.86,-78.7389 143.975,-75.3322\"/>\r\n",
       "</g>\r\n",
       "<!-- 4 -->\r\n",
       "<g id=\"node5\" class=\"node\"><title>4</title>\r\n",
       "<path fill=\"#e58139\" stroke=\"black\" d=\"M276,-68C276,-68 203,-68 203,-68 197,-68 191,-62 191,-56 191,-56 191,-12 191,-12 191,-6 197,-0 203,-0 203,-0 276,-0 276,-0 282,-0 288,-6 288,-12 288,-12 288,-56 288,-56 288,-62 282,-68 276,-68\"/>\r\n",
       "<text text-anchor=\"start\" x=\"210.5\" y=\"-52.8\" font-family=\"Helvetica,sans-Serif\" font-size=\"14.00\">gini = 0.0</text>\r\n",
       "<text text-anchor=\"start\" x=\"200\" y=\"-37.8\" font-family=\"Helvetica,sans-Serif\" font-size=\"14.00\">samples = 2</text>\r\n",
       "<text text-anchor=\"start\" x=\"199\" y=\"-22.8\" font-family=\"Helvetica,sans-Serif\" font-size=\"14.00\">value = [2, 0]</text>\r\n",
       "<text text-anchor=\"start\" x=\"203.5\" y=\"-7.8\" font-family=\"Helvetica,sans-Serif\" font-size=\"14.00\">class = fish</text>\r\n",
       "</g>\r\n",
       "<!-- 2&#45;&gt;4 -->\r\n",
       "<g id=\"edge4\" class=\"edge\"><title>2&#45;&gt;4</title>\r\n",
       "<path fill=\"none\" stroke=\"black\" d=\"M201.214,-103.726C206.041,-95.0615 211.147,-85.8962 216.002,-77.1802\"/>\r\n",
       "<polygon fill=\"black\" stroke=\"black\" points=\"219.14,-78.7389 220.95,-68.2996 213.025,-75.3322 219.14,-78.7389\"/>\r\n",
       "</g>\r\n",
       "</g>\r\n",
       "</svg>\r\n"
      ],
      "text/plain": [
       "<graphviz.files.Source at 0x8837128>"
      ]
     },
     "execution_count": 78,
     "metadata": {},
     "output_type": "execute_result"
    }
   ],
   "source": [
    "#给图形增加标签和颜色\n",
    "dot_data = tree.export_graphviz(clf, out_file=None,\n",
    "                               feature_names=['no surfacing', 'flippers'],\n",
    "                               class_names=['fish', 'not fish']\n",
    "                               ,filled=True, rounded=True,\n",
    "                               special_characters=True)\n",
    "graphviz.Source(dot_data)"
   ]
  },
  {
   "cell_type": "code",
   "execution_count": 13,
   "metadata": {
    "collapsed": false
   },
   "outputs": [
    {
     "name": "stderr",
     "output_type": "stream",
     "text": [
      "C:\\Program Files\\Anaconda3\\lib\\site-packages\\sklearn\\utils\\fixes.py:313: FutureWarning: numpy not_equal will not check object identity in the future. The comparison did not return the same result as suggested by the identity (`is`)) and will change.\n",
      "  _nan_object_mask = _nan_object_array != _nan_object_array\n"
     ]
    },
    {
     "data": {
      "text/plain": [
       "'fish.pdf'"
      ]
     },
     "execution_count": 13,
     "metadata": {},
     "output_type": "execute_result"
    }
   ],
   "source": [
    "#利用render方法生成图形\n",
    "graph = graphviz.Source(dot_data)\n",
    "graph.render(\"fish\")"
   ]
  },
  {
   "cell_type": "code",
   "execution_count": 14,
   "metadata": {
    "collapsed": true
   },
   "outputs": [],
   "source": [
    "Ytrain = dataSet.iloc[:,-1]"
   ]
  },
  {
   "cell_type": "code",
   "execution_count": 15,
   "metadata": {
    "collapsed": false
   },
   "outputs": [
    {
     "data": {
      "text/plain": [
       "['yes', 'no']"
      ]
     },
     "execution_count": 15,
     "metadata": {},
     "output_type": "execute_result"
    }
   ],
   "source": [
    "Ytrain.unique().tolist()"
   ]
  },
  {
   "cell_type": "code",
   "execution_count": 22,
   "metadata": {
    "collapsed": false
   },
   "outputs": [
    {
     "data": {
      "text/plain": [
       "0    1\n",
       "1    1\n",
       "2    0\n",
       "3    0\n",
       "4    0\n",
       "Name: fish, dtype: int32"
      ]
     },
     "execution_count": 22,
     "metadata": {},
     "output_type": "execute_result"
    }
   ],
   "source": [
    "(Ytrain == 'yes').astype('int')"
   ]
  },
  {
   "cell_type": "code",
   "execution_count": null,
   "metadata": {
    "collapsed": true
   },
   "outputs": [],
   "source": []
  }
 ],
 "metadata": {
  "anaconda-cloud": {},
  "kernelspec": {
   "display_name": "Python [conda env:Anaconda3]",
   "language": "python",
   "name": "conda-env-Anaconda3-py"
  },
  "language_info": {
   "codemirror_mode": {
    "name": "ipython",
    "version": 3
   },
   "file_extension": ".py",
   "mimetype": "text/x-python",
   "name": "python",
   "nbconvert_exporter": "python",
   "pygments_lexer": "ipython3",
   "version": "3.5.6"
  }
 },
 "nbformat": 4,
 "nbformat_minor": 1
}
