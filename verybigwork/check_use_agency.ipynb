{
 "cells": [
  {
   "cell_type": "code",
   "execution_count": 19,
   "metadata": {},
   "outputs": [],
   "source": [
    "\"\"\"\n",
    "@outher: ExclusiveName\n",
    "@name: 韩崇浩\n",
    "@date:2020/03/08\n",
    "@note:用于清洗代理，合格的放入另一个代理池中\n",
    "\"\"\"\n",
    "import time\n",
    "import random\n",
    "import requests\n",
    "import telnetlib\n",
    "from fake_useragent import UserAgent\n",
    "from agency_ip_66 import *\n",
    "from agency_ip_kuai import *"
   ]
  },
  {
   "cell_type": "code",
   "execution_count": 20,
   "metadata": {},
   "outputs": [],
   "source": [
    "def check_long():\n",
    "    with open(\"init_pond_long.txt\",\"r\",encoding=\"utf-8\") as f:\n",
    "        content = f.readlines() \n",
    "    succeed = []\n",
    "    for agency in content:\n",
    "        try:\n",
    "            ua = UserAgent()\n",
    "            response = requests.get(\"http://icanhazip.com/\",headers={\"User-Agent\":ua.random},proxies={\"http\":agency[:-2]},timeout=5)\n",
    "            print(response.status_code)\n",
    "            print(response.text)\n",
    "            if agency.split(\":\")[1][2:] == response.text:\n",
    "                print(\"解析成功：\",agency)\n",
    "                agency = agency.strip()\n",
    "                succeed.append(\"\\\"\"+agency.split(\":\")[0]+\"\\\":\\\"\"+agency+\"\\\"\")\n",
    "            else:\n",
    "                print(\"解析失败：\",agency)\n",
    "        except:\n",
    "            print(\"解析失败：\",agency)\n",
    "    print(\"本次加入合格代理池中有{}个。\".format(len(succeed)))\n",
    "    with open(\"succ_pond.txt\",\"a\",encoding=\"utf-8\") as f:\n",
    "        f.write(\"\\n\".join(succeed))"
   ]
  },
  {
   "cell_type": "code",
   "execution_count": 87,
   "metadata": {},
   "outputs": [],
   "source": [
    "def check_sort():\n",
    "    succeed = []\n",
    "    with open(\"init_pond_sort.txt\",\"r\",encoding=\"utf-8\") as f:\n",
    "        content = f.readlines() \n",
    "    for line in content:\n",
    "        ip,port = line.strip().split(\",\")\n",
    "        try:\n",
    "            telnetlib.Telnet(ip,port,timeout=2)\n",
    "            print(\"代理有效：{}:{}\".format(ip,port))\n",
    "            succeed.append('\\\"http\\\":\\\"http://'+ip+\":\"+port+'\\\"')\n",
    "        except:\n",
    "            print(\"代理失效：{}:{}\".format(ip,port))\n",
    "    print(\"本次加入合格代理池中有{}个。\".format(len(succeed)))\n",
    "    with open(\"succ_pond.txt\",\"a\",encoding=\"utf-8\") as f:\n",
    "        f.write(\"\\n\".join(succeed))"
   ]
  },
  {
   "cell_type": "code",
   "execution_count": 89,
   "metadata": {},
   "outputs": [],
   "source": [
    "\"\"\"\n",
    "@outher: ExclusiveName\n",
    "@name: 韩崇浩\n",
    "@date:2020/03/08\n",
    "@note:爬取各个网页的代理并进行合格检查,使用多线程\n",
    "\"\"\"\n",
    "def check_agency():\n",
    "    agency_ip_66.agency_ip_one()\n",
    "    agency_ip_kuai.agency_ip_two()\n",
    "    check_long()\n",
    "    check_sort()"
   ]
  },
  {
   "cell_type": "code",
   "execution_count": 93,
   "metadata": {},
   "outputs": [],
   "source": [
    "\"\"\"\n",
    "@outher: ExclusiveName\n",
    "@name: 韩崇浩\n",
    "@date:2020/03/08\n",
    "@note:调用此方法，返回parxy直接使用\n",
    "\"\"\"\n",
    "def use_agency():\n",
    "    with open(\"succ_pond.txt\",\"r\",encoding=\"utf-8\") as f:\n",
    "        content = f.readlines()\n",
    "    try:\n",
    "        res = content.pop(random.randint(0,len(content)))\n",
    "        with open(\"succ_pond.txt\",\"w\",encoding=\"utf-8\") as f:\n",
    "            f.write(\"\".join(content))\n",
    "        return res.strip()\n",
    "    except:\n",
    "        print(\"代理池已空，正在补充\")\n",
    "        check_agency()"
   ]
  },
  {
   "cell_type": "code",
   "execution_count": null,
   "metadata": {},
   "outputs": [],
   "source": []
  }
 ],
 "metadata": {
  "kernelspec": {
   "display_name": "Python 3",
   "language": "python",
   "name": "python3"
  },
  "language_info": {
   "codemirror_mode": {
    "name": "ipython",
    "version": 3
   },
   "file_extension": ".py",
   "mimetype": "text/x-python",
   "name": "python",
   "nbconvert_exporter": "python",
   "pygments_lexer": "ipython3",
   "version": "3.7.0"
  }
 },
 "nbformat": 4,
 "nbformat_minor": 2
}
