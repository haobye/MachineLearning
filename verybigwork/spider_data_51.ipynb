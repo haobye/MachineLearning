{
 "cells": [
  {
   "cell_type": "code",
   "execution_count": 2,
   "metadata": {},
   "outputs": [],
   "source": [
    "\"\"\"\n",
    "@outher: ExclusiveName\n",
    "@name: 韩崇浩\n",
    "@date:2020/03/07\n",
    "@note:导入库\n",
    "\"\"\"\n",
    "import requests\n",
    "from lxml import etree\n",
    "from fake_useragent import UserAgent"
   ]
  },
  {
   "cell_type": "code",
   "execution_count": 49,
   "metadata": {},
   "outputs": [],
   "source": [
    "\"\"\"\n",
    "@outher: ExclusiveName\n",
    "@name: 韩崇浩\n",
    "@date:2020/03/07\n",
    "@note:进入前程无忧网站主页，返回主页内容\n",
    "\"\"\"\n",
    "def get_home_page(url):\n",
    "    ua = UserAgent()\n",
    "    response = requests.get(url, headers={\"User-Agent\":ua.random})\n",
    "    if response.status_code == 200:\n",
    "        response.encoding = \"gbk\"\n",
    "        return response.text\n",
    "    else:\n",
    "        print(\"进入网站主页出错！！！\")\n",
    "        return None"
   ]
  },
  {
   "cell_type": "code",
   "execution_count": 50,
   "metadata": {},
   "outputs": [],
   "source": [
    "\"\"\"\n",
    "@outher: ExclusiveName\n",
    "@name: 韩崇浩\n",
    "@date:2020/03/07\n",
    "@note:使用xpath方式得到关于计算机软件一栏的所有职位名称和其网址\n",
    "\"\"\"\n",
    "def more_job_page(html):\n",
    "    select = etree.HTML(html)\n",
    "    items = select.xpath(\"/html/body/div[3]/div[2]/div[3]/div[1]\")\n",
    "    for item in items:\n",
    "        job_urls = item.xpath(\"./a/@href\")\n",
    "        job_names = item.xpath(\"./a/text()\")\n",
    "        jobs = list(zip(job_urls,job_names))\n",
    "        return jobs"
   ]
  },
  {
   "cell_type": "code",
   "execution_count": 57,
   "metadata": {},
   "outputs": [],
   "source": [
    "\"\"\"\n",
    "@outher: ExclusiveName\n",
    "@name: 韩崇浩\n",
    "@date:2020/03/07\n",
    "@note:进入每一个职位的网页，获取职位名称、公司名称、城市、薪资、学历要求、工作经验、公司性质\n",
    "@suspend：由于受到IP地址的限制，今日休息\n",
    "\"\"\"\n",
    "def one_kind_job(job,dic):\n",
    "    url,name = job\n",
    "    print(url,name)\n",
    "    ua = UserAgent()\n",
    "    for page in range(1,4):\n",
    "        url = url+\"p\"+str(page)+\"/\"\n",
    "        print(\"正在分析关于{}的第{}页数据...\".format(name,page))\n",
    "        headers = {\"User-Agent\": ua.random}\n",
    "        response = requests.get(url,headers=headers)\n",
    "        response.encoding = \"gbk\"\n",
    "        html = response.text\n",
    "        content = etree.HTML(html)\n",
    "        lines = content.xpath(\"/html/body/div[4]/div[2]/div[1]/div[2]/div\")\n",
    "        for line in lines:\n",
    "            job = line.xpath(\"./p[1]/span[1]/a/text()\")\n",
    "            company = line.xpath(\"./p[1]/a/text()\")\n",
    "            city = line.xpath(\"./p[1]/span[2]/text()\")\n",
    "            pay = line.xpath(\"./p[1]/span[3]/text()\")\n",
    "            info = line.xpath(\"./p[2]/text()\")\n",
    "            info = \",\".join(info)\n",
    "            details = line.xpath(\"./p[1]/span[1]/a/@href\")\n",
    "            try:\n",
    "                message = job[0]+\",\"+company[0]+\",\"+city[0]+\",\"+pay[0]+\",\"+info+\",\"+details[0]\n",
    "            except:\n",
    "                message = job[0]+\",\"+company[0]+\",\"+city[0]+\",未知,\"+info+\",\"+details[0]\n",
    "            dic[name+\"*\"+job[0]] = message"
   ]
  },
  {
   "cell_type": "code",
   "execution_count": 58,
   "metadata": {
    "scrolled": false
   },
   "outputs": [
    {
     "name": "stdout",
     "output_type": "stream",
     "text": [
      "进入高级软件工程师职位的页面....\n",
      "https://jobs.51job.com/gaojiruanjian/ 高级软件工程师\n",
      "正在分析关于高级软件工程师的第1页数据...\n",
      "正在分析关于高级软件工程师的第2页数据...\n",
      "进入软件工程师职位的页面....\n",
      "https://jobs.51job.com/ruanjian/ 软件工程师\n",
      "正在分析关于软件工程师的第1页数据...\n",
      "正在分析关于软件工程师的第2页数据...\n",
      "进入IOS开发工程师职位的页面....\n",
      "https://jobs.51job.com/ioskaifa/ IOS开发工程师\n",
      "正在分析关于IOS开发工程师的第1页数据...\n",
      "正在分析关于IOS开发工程师的第2页数据...\n"
     ]
    }
   ],
   "source": [
    "url = \"https://jobs.51job.com/\"\n",
    "html = get_home_page(url)\n",
    "jobs = more_job_page(html)\n",
    "dic = {}\n",
    "for job in jobs[:3]:\n",
    "    print(\"进入\"+job[1]+\"职位的页面....\")\n",
    "    one_kind_job(job,dic)\n",
    "with open(\"job_data.txt\",\"w\",encoding=\"utf-8\") as f:\n",
    "    f.write(str(dic))"
   ]
  },
  {
   "cell_type": "code",
   "execution_count": null,
   "metadata": {},
   "outputs": [],
   "source": []
  }
 ],
 "metadata": {
  "kernelspec": {
   "display_name": "Python 3",
   "language": "python",
   "name": "python3"
  },
  "language_info": {
   "codemirror_mode": {
    "name": "ipython",
    "version": 3
   },
   "file_extension": ".py",
   "mimetype": "text/x-python",
   "name": "python",
   "nbconvert_exporter": "python",
   "pygments_lexer": "ipython3",
   "version": "3.7.0"
  }
 },
 "nbformat": 4,
 "nbformat_minor": 2
}
