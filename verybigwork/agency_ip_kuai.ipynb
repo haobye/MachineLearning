{
 "cells": [
  {
   "cell_type": "code",
   "execution_count": 154,
   "metadata": {},
   "outputs": [],
   "source": [
    "\"\"\"\n",
    "@outher: ExclusiveName\n",
    "@name: 韩崇浩\n",
    "@date:2020/03/08\n",
    "@note:用于爬取快代理，存入代理池子\n",
    "\"\"\"\n",
    "import re\n",
    "import time\n",
    "import requests\n",
    "from lxml import etree\n",
    "from bs4 import BeautifulSoup\n",
    "from fake_useragent import UserAgent"
   ]
  },
  {
   "cell_type": "code",
   "execution_count": 155,
   "metadata": {
    "scrolled": true
   },
   "outputs": [],
   "source": [
    "def get_home_page(total):\n",
    "    urls = [\"https://www.kuaidaili.com/free/inha/\"+str(page)+\"/\" for page in range(1,3)]\n",
    "    for url in urls[:6]:\n",
    "        ua = UserAgent()\n",
    "        print(\"正在获取网页：\",url)\n",
    "        response = requests.get(url,headers={\"User-Agent\":ua.random})\n",
    "        response.encoding = \"utf-8\"\n",
    "        html = response.text\n",
    "        soup = BeautifulSoup(html,\"lxml\")  \n",
    "        lines = soup.select(\"tr > td\")\n",
    "        line = re.findall(r'<td data-title=\"IP\">(.*?)</td>, <td data-title=\"PORT\">(.*?)</td>',str(lines))\n",
    "        for item in line:\n",
    "            total.append(item)\n",
    "        time.sleep(2)"
   ]
  },
  {
   "cell_type": "code",
   "execution_count": 156,
   "metadata": {},
   "outputs": [],
   "source": [
    "def save_data(total):\n",
    "    with open(\"init_pond_sort.txt\",\"w\",encoding=\"utf-8\") as f:\n",
    "        for tup in total:\n",
    "            f.write(tup[0]+','+tup[1]+\"\\n\")"
   ]
  },
  {
   "cell_type": "code",
   "execution_count": 157,
   "metadata": {},
   "outputs": [],
   "source": [
    "def agency_ip_two():\n",
    "    total = []\n",
    "    get_home_page(total)\n",
    "    save_data(total)"
   ]
  },
  {
   "cell_type": "code",
   "execution_count": 158,
   "metadata": {},
   "outputs": [
    {
     "name": "stdout",
     "output_type": "stream",
     "text": [
      "正在获取网页： https://www.kuaidaili.com/free/inha/1/\n",
      "正在获取网页： https://www.kuaidaili.com/free/inha/2/\n",
      "正在获取网页： https://www.kuaidaili.com/free/inha/3/\n",
      "正在获取网页： https://www.kuaidaili.com/free/inha/4/\n",
      "正在获取网页： https://www.kuaidaili.com/free/inha/5/\n",
      "正在获取网页： https://www.kuaidaili.com/free/inha/6/\n",
      "正在获取网页： https://www.kuaidaili.com/free/inha/7/\n",
      "正在获取网页： https://www.kuaidaili.com/free/inha/8/\n",
      "正在获取网页： https://www.kuaidaili.com/free/inha/9/\n",
      "正在获取网页： https://www.kuaidaili.com/free/inha/10/\n"
     ]
    }
   ],
   "source": [
    "# agency_ip_two()"
   ]
  },
  {
   "cell_type": "code",
   "execution_count": null,
   "metadata": {},
   "outputs": [],
   "source": [
    "def test():\n",
    "    print(\"这里是快代理的爬取代码\")"
   ]
  }
 ],
 "metadata": {
  "kernelspec": {
   "display_name": "Python 3",
   "language": "python",
   "name": "python3"
  },
  "language_info": {
   "codemirror_mode": {
    "name": "ipython",
    "version": 3
   },
   "file_extension": ".py",
   "mimetype": "text/x-python",
   "name": "python",
   "nbconvert_exporter": "python",
   "pygments_lexer": "ipython3",
   "version": "3.7.0"
  }
 },
 "nbformat": 4,
 "nbformat_minor": 2
}
