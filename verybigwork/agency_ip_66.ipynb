{
 "cells": [
  {
   "cell_type": "code",
   "execution_count": 72,
   "metadata": {},
   "outputs": [],
   "source": [
    "\"\"\"\n",
    "@outher: ExclusiveName\n",
    "@name: 韩崇浩\n",
    "@date:2020/03/08\n",
    "@note:用于爬取66免费代理，存入代理池子\n",
    "\"\"\"\n",
    "import re\n",
    "import time\n",
    "import requests\n",
    "from lxml import etree\n",
    "from bs4 import BeautifulSoup\n",
    "from fake_useragent import UserAgent"
   ]
  },
  {
   "cell_type": "code",
   "execution_count": 73,
   "metadata": {},
   "outputs": [],
   "source": [
    "def get_home_page():\n",
    "    url_list = []\n",
    "    for page in range(1,6):\n",
    "        if page == 1:\n",
    "            page = \"index\"\n",
    "        url = \"http://www.66ip.cn/\"+str(page)+\".html\"\n",
    "        url_list.append(url)\n",
    "    return url_list"
   ]
  },
  {
   "cell_type": "code",
   "execution_count": 74,
   "metadata": {},
   "outputs": [],
   "source": [
    "def get_parxy(url,charset=\"gb2312\"):\n",
    "    ua = UserAgent()\n",
    "    print(\"正在获取网页：\",url)\n",
    "    response = requests.get(url,headers={\"User-Agent\":ua.random})\n",
    "    response.encoding = charset\n",
    "    html = response.text\n",
    "    lines = re.findall(r'<tr><td>(.*?)</td><td>(\\d+)</td><td>',html)\n",
    "    return lines "
   ]
  },
  {
   "cell_type": "code",
   "execution_count": 75,
   "metadata": {},
   "outputs": [],
   "source": [
    "def join_pond(total,lines):\n",
    "    for line in lines:\n",
    "        after = \":\".join(line)\n",
    "        complete = \"http://\"+after\n",
    "        total.append(complete)"
   ]
  },
  {
   "cell_type": "code",
   "execution_count": 76,
   "metadata": {},
   "outputs": [],
   "source": [
    "def save_data(total,url):\n",
    "    data = \"\\n\".join(total)+\"\\n\"\n",
    "    with open(\"init_pond_long.txt\",\"w\",encoding=\"utf-8\") as f:\n",
    "        f.write(data)"
   ]
  },
  {
   "cell_type": "code",
   "execution_count": 77,
   "metadata": {},
   "outputs": [],
   "source": [
    "def agency_ip_one():\n",
    "    total = []\n",
    "    url_list = get_home_page()\n",
    "    for url in url_list:\n",
    "        lines = get_parxy(url)\n",
    "        join_pond(total,lines)\n",
    "        time.sleep(2)\n",
    "    save_data(total,url)"
   ]
  },
  {
   "cell_type": "code",
   "execution_count": 78,
   "metadata": {},
   "outputs": [
    {
     "name": "stdout",
     "output_type": "stream",
     "text": [
      "正在获取网页： http://www.66ip.cn/index.html\n",
      "正在获取网页： http://www.66ip.cn/2.html\n",
      "正在获取网页： http://www.66ip.cn/3.html\n",
      "正在获取网页： http://www.66ip.cn/4.html\n",
      "正在获取网页： http://www.66ip.cn/5.html\n",
      "正在获取网页： http://www.66ip.cn/6.html\n",
      "正在获取网页： http://www.66ip.cn/7.html\n",
      "正在获取网页： http://www.66ip.cn/8.html\n",
      "正在获取网页： http://www.66ip.cn/9.html\n",
      "正在获取网页： http://www.66ip.cn/10.html\n"
     ]
    }
   ],
   "source": [
    "# agency_ip_one()"
   ]
  },
  {
   "cell_type": "code",
   "execution_count": null,
   "metadata": {},
   "outputs": [],
   "source": []
  }
 ],
 "metadata": {
  "kernelspec": {
   "display_name": "Python 3",
   "language": "python",
   "name": "python3"
  },
  "language_info": {
   "codemirror_mode": {
    "name": "ipython",
    "version": 3
   },
   "file_extension": ".py",
   "mimetype": "text/x-python",
   "name": "python",
   "nbconvert_exporter": "python",
   "pygments_lexer": "ipython3",
   "version": "3.7.0"
  }
 },
 "nbformat": 4,
 "nbformat_minor": 2
}
